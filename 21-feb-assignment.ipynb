{
 "cells": [
  {
   "cell_type": "markdown",
   "id": "d45cc06d-0700-45a3-ac50-29fe744c95ff",
   "metadata": {},
   "source": [
    "Q1. What is Web Scraping? Why is it Used? Give three areas where Web Scraping is used to get data."
   ]
  },
  {
   "cell_type": "markdown",
   "id": "bd7ff67d-788a-46ea-bf42-6c07fac5b6ec",
   "metadata": {},
   "source": [
    "Web scrapping is a technique used to harvest the required data from the web pages to use it for the unique applications. They can help to make data analysis on real time data, sentiment analysis on reviews and comments, etc. Three areas where web scrapping is used to get the data are: a) Research for web content. b) Pricing for travel booker sites/price comparison sites\n",
    "c) Finding sales leads/conducting market research by crawling public data sources (e.g. Yell and Twitter)"
   ]
  },
  {
   "cell_type": "markdown",
   "id": "202380a4-d8f7-46e6-8e60-8a63bfbeff26",
   "metadata": {},
   "source": [
    "Q2. What are the different methods used for Web Scraping?"
   ]
  },
  {
   "cell_type": "markdown",
   "id": "162bfe34-6b5d-4f35-bf4b-291af26f9de0",
   "metadata": {},
   "source": [
    "Web scrapping can be done using the inspection of the webpages, using any special API's. \n",
    "\n",
    "Beautiful soup , URl open and requests are few libraries used for web scrapping "
   ]
  },
  {
   "cell_type": "markdown",
   "id": "355f0cda-c9fd-4d59-9cf0-0bef5d779080",
   "metadata": {},
   "source": [
    "Q3. What is Beautiful Soup? Why is it used?"
   ]
  },
  {
   "cell_type": "markdown",
   "id": "a108eda7-069d-4c8c-bddd-b4f94774981c",
   "metadata": {},
   "source": [
    "Beautiful Soup is a Python package for parsing HTML and XML documents (including having malformed markup, i.e. non-closed tags, so named after tag soup). It creates a parse tree for parsed pages that can be used to extract data from HTML, which is useful for web scraping\n",
    "\n",
    "It beautifies the parsing html documents"
   ]
  },
  {
   "cell_type": "markdown",
   "id": "cadddf7b-b3c6-4812-a0f7-8b02fd80bbbb",
   "metadata": {},
   "source": [
    "Q4. Why is flask used in this Web Scraping project?"
   ]
  },
  {
   "cell_type": "markdown",
   "id": "99eeb910-431a-4ed7-99d6-ec68056e561b",
   "metadata": {},
   "source": [
    "Flask is a lightweight framework to build websites. the flask is used  to parse the collected data and display it as HTML in a new HTML file. The requests module allows us to send http requests to the website we want to scrape. "
   ]
  },
  {
   "cell_type": "markdown",
   "id": "58f1b122-dde8-4912-b54d-acba0baa5a01",
   "metadata": {},
   "source": [
    "Q5. Write the names of AWS services used in this project. Also, explain the use of each service."
   ]
  },
  {
   "cell_type": "markdown",
   "id": "e46cbb90-5813-4f92-9dd5-0c9f9220a8bf",
   "metadata": {},
   "source": [
    "Cross origin- helps to access the application from any origin or globally\n",
    "\n",
    "Elastic bean stack is used for deploying and scaling web applications and services"
   ]
  },
  {
   "cell_type": "code",
   "execution_count": null,
   "id": "2387e79d-ac74-4d72-8f2f-1fc082612809",
   "metadata": {},
   "outputs": [],
   "source": []
  }
 ],
 "metadata": {
  "kernelspec": {
   "display_name": "Python 3 (ipykernel)",
   "language": "python",
   "name": "python3"
  },
  "language_info": {
   "codemirror_mode": {
    "name": "ipython",
    "version": 3
   },
   "file_extension": ".py",
   "mimetype": "text/x-python",
   "name": "python",
   "nbconvert_exporter": "python",
   "pygments_lexer": "ipython3",
   "version": "3.10.8"
  }
 },
 "nbformat": 4,
 "nbformat_minor": 5
}
