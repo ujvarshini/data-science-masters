{
 "cells": [
  {
   "cell_type": "markdown",
   "id": "09d8c3c7-4758-4ca7-bbbf-a1898ada39e7",
   "metadata": {},
   "source": [
    "1.What is a database? Differentiate between SQL and NoSQL databases."
   ]
  },
  {
   "cell_type": "markdown",
   "id": "9c7bb5b9-8fac-4229-8186-574515ad7b95",
   "metadata": {},
   "source": [
    "A database is built for storing data in application development. A database contains various data that is stored in an application\n",
    "SQL is a structured query language used to access the data from the database. it goes through the data in a structured way. mysql, oracle are few examples for sql\n",
    "NoSQL is a not only structured query language that can accomodate any kind of unstructured data like image, textfile, etc. Mangodb, casandra are few examples for nosql."
   ]
  },
  {
   "cell_type": "markdown",
   "id": "a3d043ec-9cde-4d06-9da3-5b00a9e254a2",
   "metadata": {},
   "source": [
    "2. What is DDL? Explain why CREATE, DROP, ALTER, and TRUNCATE are used with an example."
   ]
  },
  {
   "cell_type": "markdown",
   "id": "6b9a29e3-24ce-40e1-bdc3-57801840e94d",
   "metadata": {},
   "source": [
    "DDL is data definition language used in SQL to create, modify the schema of the database and its objects.\n"
   ]
  },
  {
   "cell_type": "markdown",
   "id": "5c9799fc-a124-4faf-93b0-b35e12d10092",
   "metadata": {},
   "source": [
    "CREATE is used to create a new database table, index or trigger\n",
    "Example:  CREATE DATABASE if not exists test1; creates a database named test1\n",
    "\n",
    "DROP is used to delete or remove the database table and index\n",
    "example: DROP DATABASE test1; deletes the database test1\n",
    "\n",
    "ALTER modifies by adding or droping the existing structure of the database table\n",
    "Example: ALTER TABLE test1 ADD mynewcolumn; mynewcolumn is added to the existing test1 table\n",
    "\n",
    "TRUNCATE deletes all the records from the mentioned table and the space allocated for it\n",
    "Example: TRUNCATE TABLE test1; it removes the test1 table and the space of it"
   ]
  },
  {
   "cell_type": "markdown",
   "id": "f7f0ffe0-7b70-45d0-93a3-01d85a01e643",
   "metadata": {},
   "source": [
    "3 What is DML? Explain INSERT, UPDATE, and DELETE with an example."
   ]
  },
  {
   "cell_type": "markdown",
   "id": "ed6136ee-8781-4fa2-8bff-108031766dbd",
   "metadata": {},
   "source": [
    "DML refers to data manipulation language. It is used to change the data present in sql database, access or modify the existing data in the database \n",
    "\n",
    "INSERT command is used to insert data into the existing table\n",
    "example: INSERT INTO table1(rollnumber) VALUES (25)\n",
    "\n",
    "UPDATE command is used to update the existing data within a table\n",
    "example: UPDATE Product SET Product_Price = 80 WHERE Product_Id = 'P102' ;  \n",
    "\n",
    "DELETE: deletes the records in the existing table\n",
    "example:DELETE FROM Product WHERE Product_Id = 'P202' ;  "
   ]
  },
  {
   "cell_type": "markdown",
   "id": "755b0566-51b6-4282-be8c-f6599118ccd4",
   "metadata": {},
   "source": [
    "4.. Q4. What is DQL? Explain SELECT with an example."
   ]
  },
  {
   "cell_type": "markdown",
   "id": "045f9bf5-43c7-43e3-80f5-9d9dc46df640",
   "metadata": {},
   "source": [
    "Data Query Langage is to perform the queries on the data within the objects. It performs operations in the database using queries\n",
    "SELECT retrieves the data from a table in the database. it is used to retrieve subset of records from one or more tables.\n",
    "EXAMPLE: SELECT * from table1;"
   ]
  },
  {
   "cell_type": "markdown",
   "id": "f738eb97-1ff8-40ae-986d-c28cc9807470",
   "metadata": {},
   "source": [
    "Q5. Explain Primary Key and Foreign Key."
   ]
  },
  {
   "cell_type": "markdown",
   "id": "76fc72f2-3191-4e77-b21d-b8b260d7eed0",
   "metadata": {},
   "source": [
    "A primary key constraint in the relational database acts as a unique identifier for every row in the table. In contrast, a foreign key constraint establishes a relationship between two different tables to uniquely identify a row of the same table or another table.\n",
    "\n",
    "Each table in a relational database can't define more than one primary key while we can specify multiple foreign keys in a table."
   ]
  },
  {
   "cell_type": "markdown",
   "id": "4e04b01f-0510-43eb-8150-c9e5214baff0",
   "metadata": {},
   "source": [
    "Q6. Write a python code to connect MySQL to python. Explain the cursor() and execute() method."
   ]
  },
  {
   "cell_type": "code",
   "execution_count": null,
   "id": "ac1a79b5-90b0-4ffe-92c1-1ceb259d7d59",
   "metadata": {},
   "outputs": [],
   "source": [
    "import mysql.connector\n",
    "\n",
    "mydb = mysql.connector.connect(\n",
    "  host=\"localhost\",\n",
    "  user=\"user\",\n",
    "  password=\"password\"\n",
    ")\n",
    "mycursor = mydb.cursor()\n",
    "mycursor.execute(\"CREATE DATABASE if not exists test1\")\n",
    "\n",
    "\n",
    "'''\n",
    "cursor goes through the data in the table line by line like a cursor of mouse pointer.\n",
    "execute method is used to execute the SQL code in database from the python notebook.\n",
    "'''"
   ]
  },
  {
   "cell_type": "markdown",
   "id": "daf1514b-3610-4da2-9153-ae022e71e453",
   "metadata": {},
   "source": [
    "Q7. Give the order of execution of SQL clauses in an SQL query."
   ]
  },
  {
   "cell_type": "markdown",
   "id": "185a8695-092b-4c33-9a30-f4d67800b862",
   "metadata": {},
   "source": [
    "1. FROM\n",
    "2. WHERE\n",
    "3. GROUPBY\n",
    "4. HAVING\n",
    "5. SELECT\n",
    "6. ORDERBY\n",
    "7. LIMIT"
   ]
  },
  {
   "cell_type": "code",
   "execution_count": null,
   "id": "98db45e5-0f31-452a-b0a0-77be1024e5b5",
   "metadata": {},
   "outputs": [],
   "source": []
  }
 ],
 "metadata": {
  "kernelspec": {
   "display_name": "Python 3 (ipykernel)",
   "language": "python",
   "name": "python3"
  },
  "language_info": {
   "codemirror_mode": {
    "name": "ipython",
    "version": 3
   },
   "file_extension": ".py",
   "mimetype": "text/x-python",
   "name": "python",
   "nbconvert_exporter": "python",
   "pygments_lexer": "ipython3",
   "version": "3.10.8"
  }
 },
 "nbformat": 4,
 "nbformat_minor": 5
}
