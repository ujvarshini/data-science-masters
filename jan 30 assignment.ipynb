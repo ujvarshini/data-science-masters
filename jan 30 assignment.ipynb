{
 "cells": [
  {
   "cell_type": "markdown",
   "id": "ae11d18b-29ee-479f-8e69-810d018a8bb3",
   "metadata": {},
   "source": [
    "### 1. Accept percentage from the user and display grade according to given criteria\n",
    "\n",
    "Marks >90 grade A; >80 and <=90 grade B; >=60 and <=80 grade; C below 60 grade D"
   ]
  },
  {
   "cell_type": "code",
   "execution_count": 4,
   "id": "266354b5-ae15-4ae9-bbe9-0107aab374fc",
   "metadata": {},
   "outputs": [
    {
     "name": "stdin",
     "output_type": "stream",
     "text": [
      "Enter your mark: 78\n"
     ]
    },
    {
     "name": "stdout",
     "output_type": "stream",
     "text": [
      "Grade C\n"
     ]
    }
   ],
   "source": [
    "mark = int(input ('Enter your mark:'))\n",
    "\n",
    "if mark>90:\n",
    "    print('Grade A')\n",
    "elif mark>80 and mark<=90:\n",
    "    print('Grade B')\n",
    "elif mark>=60 and mark<=80:\n",
    "    print('Grade C')\n",
    "else:\n",
    "    print('Grade D')"
   ]
  },
  {
   "cell_type": "markdown",
   "id": "3457cfa5-efb7-4ebd-b377-393ea3c89ff1",
   "metadata": {},
   "source": [
    "### 2. Accept cost price of a bike and display the road tax to be paid according to given criteria:\n",
    "\n",
    "if cost is >100000 15% tax; >50000 and <=100000 10% tax; <=50000 5% tax"
   ]
  },
  {
   "cell_type": "code",
   "execution_count": 2,
   "id": "2896bd14-b1ec-4a5e-aab5-3337cfac6a34",
   "metadata": {},
   "outputs": [
    {
     "name": "stdin",
     "output_type": "stream",
     "text": [
      "Enter your cost price: 53733\n"
     ]
    },
    {
     "name": "stdout",
     "output_type": "stream",
     "text": [
      "Pay 10% tax\n"
     ]
    }
   ],
   "source": [
    "cost = int(input('Enter your cost price:'))\n",
    "\n",
    "if cost>100000:\n",
    "    print(\"Pay 15% tax\")\n",
    "elif cost>50000 and cost<=100000:\n",
    "    print(\"Pay 10% tax\")\n",
    "else:\n",
    "    print(\"Pay 5% tax\")"
   ]
  },
  {
   "cell_type": "markdown",
   "id": "5a0ef309-cacc-47e1-90fe-8b2d45d04d88",
   "metadata": {},
   "source": [
    "### 3. Accept any city from the user and display monuments of that city\n",
    "\n",
    "delhi- red fort\n",
    "agra- taj mahal\n",
    "jaipur- jal mahal"
   ]
  },
  {
   "cell_type": "code",
   "execution_count": 4,
   "id": "ef29d536-01e0-41c6-abda-a521520c63af",
   "metadata": {},
   "outputs": [
    {
     "name": "stdin",
     "output_type": "stream",
     "text": [
      "Enter your city: Jaipur\n"
     ]
    },
    {
     "name": "stdout",
     "output_type": "stream",
     "text": [
      "Jal mahal\n"
     ]
    }
   ],
   "source": [
    "city = input ('Enter your city:')\n",
    "if city=='Delhi':\n",
    "    print('Red fort')\n",
    "elif city=='Agra':\n",
    "    print('Taj mahal')\n",
    "elif city=='Jaipur':\n",
    "    print('Jal mahal')\n",
    "else:\n",
    "    print('Enter the city: Delhi, Agra, Jaipur')"
   ]
  },
  {
   "cell_type": "markdown",
   "id": "6185b6f1-3473-4297-a9c4-beab3d897bb8",
   "metadata": {},
   "source": [
    "### 4. Check how many times a given number can be divided by 3 before it is less than or equal to 10"
   ]
  },
  {
   "cell_type": "code",
   "execution_count": 23,
   "id": "e82c912e-a248-49a0-999e-23733ba28500",
   "metadata": {},
   "outputs": [
    {
     "name": "stdout",
     "output_type": "stream",
     "text": [
      "2\n"
     ]
    }
   ],
   "source": [
    "number = 46\n",
    "n=0\n",
    "while number > 10:\n",
    "    number =  number/3\n",
    "    n=n+1\n",
    "\n",
    "print(n)"
   ]
  },
  {
   "cell_type": "markdown",
   "id": "05cd3aa3-9934-4cca-9317-730739eb6eb1",
   "metadata": {},
   "source": [
    "### 5.why and when to use while loop in python"
   ]
  },
  {
   "cell_type": "code",
   "execution_count": 27,
   "id": "b28f0a9e-a89b-490f-810e-88189604050c",
   "metadata": {},
   "outputs": [
    {
     "name": "stdout",
     "output_type": "stream",
     "text": [
      "heater on\n",
      "heater on\n",
      "heater on\n",
      "heater on\n",
      "heater on\n"
     ]
    }
   ],
   "source": [
    "\"\"\"\n",
    "While is an entry check loop which runs until a condition is satisfied. \n",
    "in other words, the loop will execute until the condition becomes false\n",
    "\"\"\"\n",
    "\n",
    "### Example- heat water till maximum is reached\n",
    "water = 95\n",
    "while water<100:\n",
    "    water = water+1\n",
    "    print('heater on')"
   ]
  },
  {
   "cell_type": "markdown",
   "id": "271b3690-3838-4ffd-986a-f885744d4e03",
   "metadata": {},
   "source": [
    "### 6. use nested while loop to print 3 different pattern"
   ]
  },
  {
   "cell_type": "code",
   "execution_count": 36,
   "id": "4686faf3-5765-4640-8a17-c7b02eff66fb",
   "metadata": {},
   "outputs": [
    {
     "name": "stdout",
     "output_type": "stream",
     "text": [
      "*\n",
      "**\n",
      "***\n",
      "****\n"
     ]
    }
   ],
   "source": [
    "row=4\n",
    "i=1\n",
    "while i <= row:\n",
    "    j=1\n",
    "    while j<=i:\n",
    "        print('*',end='')\n",
    "        j=j+1\n",
    "    print()\n",
    "    i=i+1"
   ]
  },
  {
   "cell_type": "code",
   "execution_count": 38,
   "id": "811e17e8-f423-4613-905c-0861836367d2",
   "metadata": {},
   "outputs": [
    {
     "name": "stdout",
     "output_type": "stream",
     "text": [
      "****\n",
      "***\n",
      "**\n",
      "*\n"
     ]
    }
   ],
   "source": [
    "row=4\n",
    "i=1\n",
    "while i <= row:\n",
    "    j=row\n",
    "    while j>=i:\n",
    "        print('*',end='')\n",
    "        j=j-1\n",
    "    print()\n",
    "    i=i+1"
   ]
  },
  {
   "cell_type": "code",
   "execution_count": 39,
   "id": "26c7b302-3d42-4f76-8b0d-2083e77ee1c4",
   "metadata": {},
   "outputs": [
    {
     "name": "stdin",
     "output_type": "stream",
     "text": [
      "Enter number of rows :  3\n"
     ]
    },
    {
     "name": "stdout",
     "output_type": "stream",
     "text": [
      "  1 \n",
      "  2   3 \n",
      "  4   5   6 \n"
     ]
    }
   ],
   "source": [
    "n = int(input('Enter number of rows : '))\n",
    " \n",
    "k = 1\n",
    "i = 1\n",
    "while i <= n :\n",
    "    j = 1\n",
    "    while j <= i:\n",
    "        print(\"{:3d}\".format(k), end = \" \")\n",
    "        j += 1\n",
    "        k += 1\n",
    "    print()\n",
    "    i += 1"
   ]
  },
  {
   "cell_type": "markdown",
   "id": "52cf690b-f9f1-4024-9b8a-db48a14bb4ca",
   "metadata": {},
   "source": [
    "### 7. reverse a while loop to display numbers from 10 to 1"
   ]
  },
  {
   "cell_type": "code",
   "execution_count": 43,
   "id": "70c1f1e9-48f4-4f9f-8601-b1f93a3ef141",
   "metadata": {},
   "outputs": [
    {
     "name": "stdout",
     "output_type": "stream",
     "text": [
      "10\n",
      "9\n",
      "8\n",
      "7\n",
      "6\n",
      "5\n",
      "4\n",
      "3\n",
      "2\n",
      "1\n"
     ]
    }
   ],
   "source": [
    "n=10\n",
    "while n>=1:\n",
    "    print(n)\n",
    "    n= n-1"
   ]
  },
  {
   "cell_type": "markdown",
   "id": "040d250e-1a05-4d46-9161-dd90b479bad9",
   "metadata": {},
   "source": [
    "### 8. repeated 7th question"
   ]
  },
  {
   "cell_type": "code",
   "execution_count": 44,
   "id": "a89a2f86-d1e1-46b2-9652-304b96ab55c5",
   "metadata": {},
   "outputs": [
    {
     "name": "stdout",
     "output_type": "stream",
     "text": [
      "10\n",
      "9\n",
      "8\n",
      "7\n",
      "6\n",
      "5\n",
      "4\n",
      "3\n",
      "2\n",
      "1\n"
     ]
    }
   ],
   "source": [
    "n=10\n",
    "while n>=1:\n",
    "    print(n)\n",
    "    n= n-1"
   ]
  }
 ],
 "metadata": {
  "kernelspec": {
   "display_name": "Python 3 (ipykernel)",
   "language": "python",
   "name": "python3"
  },
  "language_info": {
   "codemirror_mode": {
    "name": "ipython",
    "version": 3
   },
   "file_extension": ".py",
   "mimetype": "text/x-python",
   "name": "python",
   "nbconvert_exporter": "python",
   "pygments_lexer": "ipython3",
   "version": "3.10.8"
  }
 },
 "nbformat": 4,
 "nbformat_minor": 5
}
