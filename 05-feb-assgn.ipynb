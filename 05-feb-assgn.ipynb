{
 "cells": [
  {
   "cell_type": "markdown",
   "id": "55509711-1149-4ed3-8498-5bd76fedb38f",
   "metadata": {},
   "source": [
    "Q1. Explain Class and Object with respect to Object-Oriented Programming. Give a suitable example."
   ]
  },
  {
   "cell_type": "code",
   "execution_count": 1,
   "id": "6bca0016-6cce-473b-ae9e-1cc1ce2191db",
   "metadata": {},
   "outputs": [
    {
     "data": {
      "text/plain": [
       "'\\n\\nClass denote the blueprint of a classification of real world object. example: class denotes car, human, etc\\nObject denotes the instance of the class that is created with definite points. example : ford car, renault nissan car, etc.\\n\\n'"
      ]
     },
     "execution_count": 1,
     "metadata": {},
     "output_type": "execute_result"
    }
   ],
   "source": [
    "\n",
    "'''\n",
    "\n",
    "Class denote the blueprint of a classification of real world object. example: class denotes car, human, etc\n",
    "Object denotes the instance of the class that is created with definite points. example : ford car, renault nissan car, etc.\n",
    "\n",
    "'''"
   ]
  },
  {
   "cell_type": "code",
   "execution_count": 11,
   "id": "1dab5184-f630-4962-b753-afe5af44a9fc",
   "metadata": {},
   "outputs": [],
   "source": [
    "### Example for class and object\n",
    "\n",
    "class game:\n",
    "    \n",
    "    def __init__(self, name, version):\n",
    "        self.name = name\n",
    "        self.version = version\n",
    "        \n",
    "        \n",
    "## here game is the class and mario is called the object or instance of the class\n",
    "\n"
   ]
  },
  {
   "cell_type": "code",
   "execution_count": 12,
   "id": "efcd0ce8-6128-4496-be51-863f95e9435f",
   "metadata": {},
   "outputs": [],
   "source": [
    "mario = game(mario,2)"
   ]
  },
  {
   "cell_type": "code",
   "execution_count": 14,
   "id": "237e5f09-535d-47a4-a995-a495f64b190c",
   "metadata": {},
   "outputs": [
    {
     "data": {
      "text/plain": [
       "__main__.game"
      ]
     },
     "execution_count": 14,
     "metadata": {},
     "output_type": "execute_result"
    }
   ],
   "source": [
    "mario.name"
   ]
  },
  {
   "cell_type": "markdown",
   "id": "59e906cc-fd4b-4bf6-84be-b99123324c40",
   "metadata": {},
   "source": [
    "Q2. Name the four pillars of OOPs."
   ]
  },
  {
   "cell_type": "code",
   "execution_count": 2,
   "id": "e69b18fa-1bf4-491d-93c2-7e8fa47fd998",
   "metadata": {},
   "outputs": [
    {
     "data": {
      "text/plain": [
       "'\\nthe four pillars of opps is \\na. polymorphism\\nb. encapsulation\\nc. inheritance\\nd. abstraction\\n\\n'"
      ]
     },
     "execution_count": 2,
     "metadata": {},
     "output_type": "execute_result"
    }
   ],
   "source": [
    "'''\n",
    "The four pillars of opps is \n",
    "a. polymorphism\n",
    "b. encapsulation\n",
    "c. inheritance\n",
    "d. abstraction\n",
    "\n",
    "'''"
   ]
  },
  {
   "cell_type": "markdown",
   "id": "ac321e25-f05b-4e2c-9457-e110e19390c4",
   "metadata": {},
   "source": [
    "Q3. Explain why the __init__() function is used. Give a suitable example."
   ]
  },
  {
   "cell_type": "code",
   "execution_count": 3,
   "id": "ec362d78-da95-46d0-96f6-20a04c6b5c75",
   "metadata": {},
   "outputs": [
    {
     "data": {
      "text/plain": [
       "'\\ninit function is an inbuilt constructor method that helps the user to input the values and calling the attributes of the function\\n'"
      ]
     },
     "execution_count": 3,
     "metadata": {},
     "output_type": "execute_result"
    }
   ],
   "source": [
    "'''\n",
    "Init function is an inbuilt constructor method that helps the user to input the values and calling the attributes of the function\n",
    "'''"
   ]
  },
  {
   "cell_type": "markdown",
   "id": "11c249a6-9572-41b4-8a79-9d180a797f53",
   "metadata": {},
   "source": [
    "Q4. Why self is used in OOPs?"
   ]
  },
  {
   "cell_type": "code",
   "execution_count": null,
   "id": "9ff5855a-6971-4f6b-ace1-0dd8c8c7935a",
   "metadata": {},
   "outputs": [],
   "source": [
    "'''\n",
    "\n",
    "Self denotes to the class variable itself. Self is used to identify that the variable created within the class is its own variable\n",
    "\n",
    "'''"
   ]
  },
  {
   "cell_type": "markdown",
   "id": "86136ef8-f978-44ef-9d6b-ad1f9f0e9ab6",
   "metadata": {},
   "source": [
    "Q5. What is inheritance? Give an example for each type of inheritance."
   ]
  },
  {
   "cell_type": "code",
   "execution_count": 15,
   "id": "050806f5-3c79-4043-8bf6-807cfd611660",
   "metadata": {},
   "outputs": [
    {
     "data": {
      "text/plain": [
       "'\\nINheritence is the property of clonning or passing the features/methods from the parent class through its generation. \\na. Multilevel inheritance:\\nThe features that are part of the original class, as well as the class that is derived from it, are passed on to the new class. \\n\\nb. multiple inheritance:\\nThis inheritance enables a child class to inherit from more than one parent class.\\n\\n'"
      ]
     },
     "execution_count": 15,
     "metadata": {},
     "output_type": "execute_result"
    }
   ],
   "source": [
    "'''\n",
    "INheritence is the property of clonning or passing the features/methods from the parent class through its generation. \n",
    "a. Multilevel inheritance:\n",
    "The features that are part of the original class, as well as the class that is derived from it, are passed on to the new class. \n",
    "\n",
    "b. multiple inheritance:\n",
    "This inheritance enables a child class to inherit from more than one parent class.\n",
    "\n",
    "'''"
   ]
  },
  {
   "cell_type": "code",
   "execution_count": 22,
   "id": "1402515b-8656-4888-a693-6f4be33b708a",
   "metadata": {},
   "outputs": [],
   "source": [
    "### multilevel inheritance\n",
    "\n",
    "### example\n",
    "class class1:\n",
    "    \n",
    "    def test1(self):\n",
    "        print('i can accesss class1')\n",
    "        \n",
    "class class2(class1):\n",
    "    \n",
    "    def test2(self):\n",
    "        print('I can access class 1 and class2')\n",
    "        \n",
    "class class3(class2):\n",
    "    def test3(self):\n",
    "        print(' i can acess class1 class2 and class3')"
   ]
  },
  {
   "cell_type": "code",
   "execution_count": 23,
   "id": "582cff44-e5fb-48d3-a2ae-71d1a7a48d17",
   "metadata": {},
   "outputs": [],
   "source": [
    "inst = class3()"
   ]
  },
  {
   "cell_type": "code",
   "execution_count": 24,
   "id": "e82f06b8-6b63-481c-b669-2817e19e3cd6",
   "metadata": {},
   "outputs": [
    {
     "name": "stdout",
     "output_type": "stream",
     "text": [
      " i can acess class1 class2 and class3\n"
     ]
    }
   ],
   "source": [
    "inst.test3()"
   ]
  },
  {
   "cell_type": "code",
   "execution_count": 25,
   "id": "0c15abb6-4e8e-43d5-82ac-2d34bb2abe80",
   "metadata": {},
   "outputs": [],
   "source": [
    "### Multiple inheritence \n",
    "## example\n",
    "\n",
    "class c1:\n",
    "    \n",
    "    def t1(self):\n",
    "        print('c1')\n",
    "\n",
    "class c2:\n",
    "    \n",
    "    def t2(self):\n",
    "        print('c2')\n",
    "        \n",
    "class c3(c1,c2):\n",
    "    pass"
   ]
  },
  {
   "cell_type": "code",
   "execution_count": 26,
   "id": "81c5413d-aeb4-450d-b857-3b8a6738ae6a",
   "metadata": {},
   "outputs": [
    {
     "name": "stdout",
     "output_type": "stream",
     "text": [
      "c1\n"
     ]
    }
   ],
   "source": [
    "obj = c3()\n",
    "\n",
    "obj.t1()"
   ]
  },
  {
   "cell_type": "code",
   "execution_count": null,
   "id": "505d71b6-35a8-46b9-85bd-d5e9c19967d4",
   "metadata": {},
   "outputs": [],
   "source": []
  }
 ],
 "metadata": {
  "kernelspec": {
   "display_name": "Python 3 (ipykernel)",
   "language": "python",
   "name": "python3"
  },
  "language_info": {
   "codemirror_mode": {
    "name": "ipython",
    "version": 3
   },
   "file_extension": ".py",
   "mimetype": "text/x-python",
   "name": "python",
   "nbconvert_exporter": "python",
   "pygments_lexer": "ipython3",
   "version": "3.10.8"
  }
 },
 "nbformat": 4,
 "nbformat_minor": 5
}
