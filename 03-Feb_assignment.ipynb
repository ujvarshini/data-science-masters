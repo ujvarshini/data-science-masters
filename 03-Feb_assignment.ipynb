{
 "cells": [
  {
   "cell_type": "markdown",
   "id": "3d1e9348-8b55-4ae8-9ef0-ce688b19dd29",
   "metadata": {},
   "source": [
    "Q1. Which keyword is used to create a function? Create a function to return a list of odd numbers in the\n",
    "range of 1 to 25."
   ]
  },
  {
   "cell_type": "code",
   "execution_count": 1,
   "id": "ec4efc5a-bfc2-422e-9eb5-4e8d3d94c3dd",
   "metadata": {},
   "outputs": [],
   "source": [
    "### to create a function keyword \"def\" is used\n",
    "\n",
    "### function to return a list of odd numbers in the range 1 to 25\n",
    "\n",
    "def odd():\n",
    "    l = []\n",
    "    for i in range(1,25):\n",
    "        if i % 2 != 0:\n",
    "            l.append(i)\n",
    "    return l"
   ]
  },
  {
   "cell_type": "code",
   "execution_count": 2,
   "id": "22486698-91ca-4353-82d3-cacfb26e0e6d",
   "metadata": {},
   "outputs": [
    {
     "data": {
      "text/plain": [
       "[1, 3, 5, 7, 9, 11, 13, 15, 17, 19, 21, 23]"
      ]
     },
     "execution_count": 2,
     "metadata": {},
     "output_type": "execute_result"
    }
   ],
   "source": [
    "odd()"
   ]
  },
  {
   "cell_type": "markdown",
   "id": "09de3af5-75d3-4f77-83c6-dae450cd6298",
   "metadata": {},
   "source": [
    "Q2. Why *args and **kwargs is used in some functions? Create a function each for *args and **kwargs to\n",
    "demonstrate their use."
   ]
  },
  {
   "cell_type": "code",
   "execution_count": 3,
   "id": "a7e7e704-8f5e-4ee8-943c-830d7c071a0a",
   "metadata": {},
   "outputs": [],
   "source": [
    "### *args is used to pass any number of arguments in the fnction\n",
    "\n",
    "def random(*args):\n",
    "    for i in args:\n",
    "        print(i)\n",
    "        "
   ]
  },
  {
   "cell_type": "code",
   "execution_count": 4,
   "id": "d56c3760-5e66-4702-9093-b09e9bedd947",
   "metadata": {},
   "outputs": [
    {
     "name": "stdout",
     "output_type": "stream",
     "text": [
      "1\n",
      "5\n"
     ]
    }
   ],
   "source": [
    "random(1,5)"
   ]
  },
  {
   "cell_type": "code",
   "execution_count": 5,
   "id": "01a6f98b-edef-43a2-8d4b-dbff002e1593",
   "metadata": {},
   "outputs": [],
   "source": [
    "### **kwargs is used to pass any number of key-value pair\n",
    "\n",
    "def kv(**kwargs):\n",
    "    return kwargs"
   ]
  },
  {
   "cell_type": "code",
   "execution_count": 9,
   "id": "3e53dae8-d376-421c-8798-59775b12e48e",
   "metadata": {},
   "outputs": [
    {
     "data": {
      "text/plain": [
       "{'a': 'assignment', 'b': 'quiz'}"
      ]
     },
     "execution_count": 9,
     "metadata": {},
     "output_type": "execute_result"
    }
   ],
   "source": [
    "kv(a = 'assignment', b = 'quiz')"
   ]
  },
  {
   "cell_type": "markdown",
   "id": "c37dd69e-d168-418b-aa98-4bb38caac767",
   "metadata": {},
   "source": [
    "Q3. What is an iterator in python? Name the method used to initialise the iterator object and the method\n",
    "used for iteration. Use these methods to print the first five elements of the given list [2, 4, 6, 8, 10, 12, 14, 16,\n",
    "18, 20]."
   ]
  },
  {
   "cell_type": "code",
   "execution_count": 13,
   "id": "f57f5a33-a329-44ff-9ef7-a71d04488abe",
   "metadata": {},
   "outputs": [
    {
     "name": "stdout",
     "output_type": "stream",
     "text": [
      "2\n",
      "4\n",
      "6\n",
      "8\n",
      "10\n"
     ]
    }
   ],
   "source": [
    "### Iterators are objects that can be iterated over, iterations can be done by using for loop or iter method\n",
    "lst= [2,4,6,8,10,12,14,16,18,20]\n",
    "for i in range(0,5):\n",
    "        print(lst[i])"
   ]
  },
  {
   "cell_type": "markdown",
   "id": "7fdab71a-0e72-4676-9275-f63872ccab68",
   "metadata": {},
   "source": [
    "Q4. What is a generator function in python? Why yield keyword is used? Give an example of a generator\n",
    "function."
   ]
  },
  {
   "cell_type": "code",
   "execution_count": 25,
   "id": "bc188c5b-3bad-4133-92b4-9168429fe770",
   "metadata": {},
   "outputs": [],
   "source": [
    "'''\n",
    "A generator function when called generates the output provides the output and does not store in the memory\n",
    "\n",
    "Yield keyword is used to output the value of function instead of return \n",
    "\n",
    "'''\n",
    "\n",
    "def genz(a):\n",
    "    for i in range(a):\n",
    "        yield(i)"
   ]
  },
  {
   "cell_type": "code",
   "execution_count": 26,
   "id": "a746348d-197d-4896-b326-7d3674936754",
   "metadata": {},
   "outputs": [
    {
     "name": "stdout",
     "output_type": "stream",
     "text": [
      "0\n",
      "1\n",
      "2\n",
      "3\n",
      "4\n",
      "5\n",
      "6\n",
      "7\n",
      "8\n",
      "9\n"
     ]
    }
   ],
   "source": [
    "for i in genz(10):\n",
    "    print(i)"
   ]
  },
  {
   "cell_type": "markdown",
   "id": "ded47a65-1d2a-4836-a724-eb647f3eb19f",
   "metadata": {},
   "source": [
    "Q5. Create a generator function for prime numbers less than 1000. Use the next() method to print the\n",
    "first 20 prime numbers."
   ]
  },
  {
   "cell_type": "code",
   "execution_count": 28,
   "id": "b47f91b5-32c3-49bd-8628-5298bb594966",
   "metadata": {},
   "outputs": [],
   "source": [
    " # range function is not count last number (Ending number)\n",
    " # only 1 to 1000 is counted\n",
    "def prime(a,b): \n",
    "    for i in range(a,b): \n",
    "        for j in range(a,b):\n",
    "            if i%j == 0:\n",
    "                break\n",
    "        if i == j:\n",
    "            yield i"
   ]
  },
  {
   "cell_type": "code",
   "execution_count": 31,
   "id": "a7d29bdc-22c3-41fb-bd1a-abfa8a9d1960",
   "metadata": {},
   "outputs": [
    {
     "name": "stdout",
     "output_type": "stream",
     "text": [
      "2,3,5,7,11,13,17,19,23,29,31,37,41,43,47,53,59,61,67,71,73,79,83,89,97,101,103,107,109,113,127,131,137,139,149,151,157,163,167,173,179,181,191,193,197,199,211,223,227,229,233,239,241,251,257,263,269,271,277,281,283,293,307,311,313,317,331,337,347,349,353,359,367,373,379,383,389,397,401,409,419,421,431,433,439,443,449,457,461,463,467,479,487,491,499,503,509,521,523,541,547,557,563,569,571,577,587,593,599,601,607,613,617,619,631,641,643,647,653,659,661,673,677,683,691,701,709,719,727,733,739,743,751,757,761,769,773,787,797,809,811,821,823,827,829,839,853,857,859,863,877,881,883,887,907,911,919,929,937,941,947,953,967,971,977,983,991,997,"
     ]
    }
   ],
   "source": [
    "for p in prime(2,1001):\n",
    "    print (p, end=',')"
   ]
  },
  {
   "cell_type": "code",
   "execution_count": null,
   "id": "de204044-6647-4fce-8dce-f22cd3658b35",
   "metadata": {},
   "outputs": [],
   "source": []
  }
 ],
 "metadata": {
  "kernelspec": {
   "display_name": "Python 3 (ipykernel)",
   "language": "python",
   "name": "python3"
  },
  "language_info": {
   "codemirror_mode": {
    "name": "ipython",
    "version": 3
   },
   "file_extension": ".py",
   "mimetype": "text/x-python",
   "name": "python",
   "nbconvert_exporter": "python",
   "pygments_lexer": "ipython3",
   "version": "3.10.8"
  }
 },
 "nbformat": 4,
 "nbformat_minor": 5
}
