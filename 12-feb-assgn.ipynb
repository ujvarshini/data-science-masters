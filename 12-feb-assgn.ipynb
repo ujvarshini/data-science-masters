{
 "cells": [
  {
   "cell_type": "markdown",
   "id": "8ba51909-49c6-4692-85ac-bb451c9c35b2",
   "metadata": {},
   "source": [
    "Q1. what is an exception in python?write difference between exception and syntax errors"
   ]
  },
  {
   "cell_type": "code",
   "execution_count": 1,
   "id": "2f33f33f-0a56-465f-a149-8cd2da037204",
   "metadata": {},
   "outputs": [
    {
     "data": {
      "text/plain": [
       "\"\\nAn exception is an event, which occurs during the execution of a program that disrupts the normal flow of the program's instructions\\n\\nErrors mostly happen at compile-time like syntax error; however it can happen at runtime as well. Whereas an Exception occurs at runtime\\n\\n\""
      ]
     },
     "execution_count": 1,
     "metadata": {},
     "output_type": "execute_result"
    }
   ],
   "source": [
    "'''\n",
    "An exception is an event, which occurs during the execution of a program that disrupts the normal flow of the program's instructions\n",
    "\n",
    "Errors mostly happen at compile-time like syntax error; however it can happen at runtime as well. Whereas an Exception occurs at runtime\n",
    "\n",
    "'''"
   ]
  },
  {
   "cell_type": "markdown",
   "id": "caf7d839-e00d-40ad-8d8f-ef2bbf52793d",
   "metadata": {},
   "source": [
    "Q2. what happens when exception is not handled? explain with eg"
   ]
  },
  {
   "cell_type": "code",
   "execution_count": 12,
   "id": "bd30c83a-b384-432f-a380-4ab2354581ab",
   "metadata": {},
   "outputs": [
    {
     "ename": "ZeroDivisionError",
     "evalue": "division by zero",
     "output_type": "error",
     "traceback": [
      "\u001b[0;31m---------------------------------------------------------------------------\u001b[0m",
      "\u001b[0;31mZeroDivisionError\u001b[0m                         Traceback (most recent call last)",
      "Cell \u001b[0;32mIn[12], line 7\u001b[0m\n\u001b[1;32m      1\u001b[0m \u001b[38;5;124;03m'''\u001b[39;00m\n\u001b[1;32m      2\u001b[0m \u001b[38;5;124;03mWhen exception is not handled the program cannot move forward with the other functions and code. \u001b[39;00m\n\u001b[1;32m      3\u001b[0m \u001b[38;5;124;03mthe runtime system will abort the program (i.e. crash) and an exception message will print to the console\u001b[39;00m\n\u001b[1;32m      4\u001b[0m \n\u001b[1;32m      5\u001b[0m \u001b[38;5;124;03mWhatever code is below the 5/0 is crashed because the system cant handle an exception of zerodivision error\u001b[39;00m\n\u001b[1;32m      6\u001b[0m \u001b[38;5;124;03m'''\u001b[39;00m\n\u001b[0;32m----> 7\u001b[0m \u001b[38;5;28mprint\u001b[39m(\u001b[38;5;241;43m5\u001b[39;49m\u001b[38;5;241;43m/\u001b[39;49m\u001b[38;5;241;43m0\u001b[39;49m)\n\u001b[1;32m      8\u001b[0m \u001b[38;5;28mprint\u001b[39m(\u001b[38;5;124m\"\u001b[39m\u001b[38;5;124mCompleted\u001b[39m\u001b[38;5;124m\"\u001b[39m)\n",
      "\u001b[0;31mZeroDivisionError\u001b[0m: division by zero"
     ]
    }
   ],
   "source": [
    "'''\n",
    "When exception is not handled the program cannot move forward with the other functions and code. \n",
    "the runtime system will abort the program (i.e. crash) and an exception message will print to the console\n",
    "\n",
    "Whatever code is below the 5/0 is crashed because the system cant handle an exception of zerodivision error\n",
    "'''\n",
    "print(5/0)\n",
    "print(\"Completed\")"
   ]
  },
  {
   "cell_type": "markdown",
   "id": "e3e103e9-d465-46c6-b1d3-a54a072357cc",
   "metadata": {},
   "source": [
    "Q3 which python statemnts are used in catch and handle exceptions ? explain with example"
   ]
  },
  {
   "cell_type": "code",
   "execution_count": 17,
   "id": "2819aba2-b17c-45aa-8091-e430761355d5",
   "metadata": {},
   "outputs": [
    {
     "name": "stdout",
     "output_type": "stream",
     "text": [
      "there is no file here [Errno 2] No such file or directory: 'testing.txt'\n",
      "look i am printing the rest of the statements\n"
     ]
    }
   ],
   "source": [
    "'''\n",
    "The try and except block in Python is used to catch and handle exceptions. \n",
    "Python executes code following the try statement as a “normal” part of the program.\n",
    "'''\n",
    "\n",
    "try:\n",
    "    with open('testing.txt','r'):\n",
    "        print('lol')\n",
    "        \n",
    "except Exception as e:\n",
    "    print('there is no file here',e)\n",
    "    \n",
    "print('look i am printing the rest of the statements')"
   ]
  },
  {
   "cell_type": "markdown",
   "id": "aede76f2-17f6-4331-bb48-eb1d03182e3d",
   "metadata": {},
   "source": [
    "Q4 Explain with example:\n",
    "    \n",
    "    a. try and else\n",
    "    b. finally\n",
    "    c. raise"
   ]
  },
  {
   "cell_type": "code",
   "execution_count": 13,
   "id": "b5a29fb8-f78a-4643-993a-b677a9d5e1f9",
   "metadata": {},
   "outputs": [
    {
     "name": "stdout",
     "output_type": "stream",
     "text": [
      "its an exception [Errno 2] No such file or directory: 'tester.txt'\n"
     ]
    }
   ],
   "source": [
    "### a. try and else\n",
    "\n",
    "'''\n",
    "try block contains suspicious information and if try gives asn error except block handles the error\n",
    "else block is executed only when the try block is able to run successfully\n",
    "'''\n",
    "\n",
    "###example\n",
    "\n",
    "try:\n",
    "    f= open('tester.txt','r')\n",
    "except Exception as e:\n",
    "    \n",
    "    print('its an exception',e)\n",
    "    \n",
    "else:\n",
    "    f.close()\n",
    "    print('else block is executed')"
   ]
  },
  {
   "cell_type": "code",
   "execution_count": 14,
   "id": "a31c7142-8795-4d8e-8be5-0d269c469d4d",
   "metadata": {},
   "outputs": [
    {
     "name": "stdout",
     "output_type": "stream",
     "text": [
      "its an exception [Errno 2] No such file or directory: 'tester.txt'\n",
      "uffff, finally\n"
     ]
    }
   ],
   "source": [
    "### b. finally\n",
    "\n",
    "'''\n",
    "\n",
    "finally block executes no matter if try block is successfully run\n",
    "it executes the code despite exception\n",
    "\n",
    "'''\n",
    "try:\n",
    "    f= open('tester.txt','r')\n",
    "except Exception as e:\n",
    "    \n",
    "    print('its an exception',e)\n",
    "    \n",
    "else:\n",
    "    f.close()\n",
    "    print('else block is executed')\n",
    "    \n",
    "finally:\n",
    "    \n",
    "    print('uffff, finally')"
   ]
  },
  {
   "cell_type": "code",
   "execution_count": 16,
   "id": "a672f503-b970-4fcc-b944-000df968315d",
   "metadata": {},
   "outputs": [
    {
     "ename": "Exception",
     "evalue": "Sorry, no numbers below zero",
     "output_type": "error",
     "traceback": [
      "\u001b[0;31m---------------------------------------------------------------------------\u001b[0m",
      "\u001b[0;31mException\u001b[0m                                 Traceback (most recent call last)",
      "Cell \u001b[0;32mIn[16], line 8\u001b[0m\n\u001b[1;32m      5\u001b[0m x \u001b[38;5;241m=\u001b[39m \u001b[38;5;241m-\u001b[39m\u001b[38;5;241m1\u001b[39m\n\u001b[1;32m      7\u001b[0m \u001b[38;5;28;01mif\u001b[39;00m x \u001b[38;5;241m<\u001b[39m \u001b[38;5;241m0\u001b[39m:\n\u001b[0;32m----> 8\u001b[0m     \u001b[38;5;28;01mraise\u001b[39;00m \u001b[38;5;167;01mException\u001b[39;00m(\u001b[38;5;124m\"\u001b[39m\u001b[38;5;124mSorry, no numbers below zero\u001b[39m\u001b[38;5;124m\"\u001b[39m)\n",
      "\u001b[0;31mException\u001b[0m: Sorry, no numbers below zero"
     ]
    }
   ],
   "source": [
    "### c. raise\n",
    "'''\n",
    "raise is a custom exception keyword which is used to raise a user exception\n",
    "'''\n",
    "x = -1\n",
    "\n",
    "if x < 0:\n",
    "    raise Exception(\"Sorry, no numbers below zero\")"
   ]
  },
  {
   "cell_type": "markdown",
   "id": "9411bd97-8880-4239-8597-b4e02b4d0c26",
   "metadata": {},
   "source": [
    "Q5 what are custom exceptions why we need them? explain with eg"
   ]
  },
  {
   "cell_type": "code",
   "execution_count": 10,
   "id": "c6a87929-9c2e-4c4f-9a95-6b6a471a08d0",
   "metadata": {},
   "outputs": [
    {
     "data": {
      "text/plain": [
       "\"\\nCustom exceptions are used in general usecase where the system is fine with the user data but practically the user data\\ndoes not match with the reality\\n\\nFor example: When one goes to ATM and they want to withdraw cash\\nthey can't withdraw cash in negative amount so when negative sign is present \\nthe custom exception can handle it for the user\\n\\n\""
      ]
     },
     "execution_count": 10,
     "metadata": {},
     "output_type": "execute_result"
    }
   ],
   "source": [
    "'''\n",
    "Custom exceptions are used in general usecase where the system is fine with the user data but practically the user data\n",
    "does not match with the reality\n",
    "\n",
    "For example: When one goes to ATM and they want to withdraw cash\n",
    "they can't withdraw cash in negative amount so when negative sign is present \n",
    "the custom exception can handle it for the user\n",
    "\n",
    "'''"
   ]
  },
  {
   "cell_type": "markdown",
   "id": "f5da78cb-c4d4-4c6b-9ec0-6e666e59f1c6",
   "metadata": {},
   "source": [
    "Q6 create custom exception class. use this class to handle exception"
   ]
  },
  {
   "cell_type": "code",
   "execution_count": 6,
   "id": "88c4b812-4088-4a19-bd72-749f54a7940a",
   "metadata": {},
   "outputs": [],
   "source": [
    "class validatemoney(Exception):\n",
    "    \n",
    "    def __init__(self, msg):\n",
    "        self.msg =  msg"
   ]
  },
  {
   "cell_type": "code",
   "execution_count": 7,
   "id": "da8e350b-3006-43ae-b5dd-1212fc16d56c",
   "metadata": {},
   "outputs": [],
   "source": [
    "def validate_money(money):\n",
    "        if age<0:\n",
    "            raise validatemoney('Money is less than 0')\n",
    "        else:\n",
    "            print('perfect')"
   ]
  },
  {
   "cell_type": "code",
   "execution_count": 9,
   "id": "8fa78d35-3f8b-42f1-98a7-701a9fb216af",
   "metadata": {},
   "outputs": [
    {
     "name": "stdin",
     "output_type": "stream",
     "text": [
      "Enter your Amount -56\n"
     ]
    },
    {
     "name": "stdout",
     "output_type": "stream",
     "text": [
      "enter a valid amount Money is less than 0\n"
     ]
    }
   ],
   "source": [
    "try:\n",
    "    money = int(input('Enter your Amount'))\n",
    "    validate_money(money)\n",
    "except Exception as e:\n",
    "    print('enter a valid amount',e)"
   ]
  },
  {
   "cell_type": "code",
   "execution_count": null,
   "id": "d454e7d5-9375-4267-b482-0b2561e16579",
   "metadata": {},
   "outputs": [],
   "source": []
  }
 ],
 "metadata": {
  "kernelspec": {
   "display_name": "Python 3 (ipykernel)",
   "language": "python",
   "name": "python3"
  },
  "language_info": {
   "codemirror_mode": {
    "name": "ipython",
    "version": 3
   },
   "file_extension": ".py",
   "mimetype": "text/x-python",
   "name": "python",
   "nbconvert_exporter": "python",
   "pygments_lexer": "ipython3",
   "version": "3.10.8"
  }
 },
 "nbformat": 4,
 "nbformat_minor": 5
}
