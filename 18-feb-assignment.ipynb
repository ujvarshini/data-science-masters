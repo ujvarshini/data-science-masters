{
 "cells": [
  {
   "cell_type": "markdown",
   "id": "96095b65-efca-4388-a3cd-676783c73a2c",
   "metadata": {},
   "source": [
    "Q1. What is an API? Give an example, where an API is used in real life."
   ]
  },
  {
   "cell_type": "markdown",
   "id": "5aca3c31-d382-4e36-acbb-73e32320b16c",
   "metadata": {},
   "source": [
    "Application programming interface or api is an interface between two applications which can send and receive the communcation via functions. example of real time api is the api between google pay and banks which runs the transactions seemlessly "
   ]
  },
  {
   "cell_type": "markdown",
   "id": "5b4d19be-d872-440e-ae45-0c3ef1fd1ee6",
   "metadata": {},
   "source": [
    "Q2. Give advantages and disadvantages of using API."
   ]
  },
  {
   "cell_type": "markdown",
   "id": "09196bdd-a6e9-4014-bb36-56a8ab04f878",
   "metadata": {},
   "source": [
    "Advantages: An API is used to communicate between two differnet platforms written in different languages. It helps to access data from various platforms despite their language differences.\n",
    "\n",
    "Disadvantage: The communcation makes it complex to understand and sometimes it faces compatibility issues with totally different platforms to communicate with api"
   ]
  },
  {
   "cell_type": "markdown",
   "id": "5901e5c5-9d1b-4a3e-996e-d92a1b999b01",
   "metadata": {},
   "source": [
    "Q3. What is a Web API? Differentiate between API and Web API."
   ]
  },
  {
   "cell_type": "markdown",
   "id": "d2b85772-d1d3-43c6-b5c3-730943693371",
   "metadata": {},
   "source": [
    "A web API is web based application or a server which acts as the client and server architecture for the applications.\n",
    "\n",
    "The protocol of api is tcp, smtp and sometimes http whereas of webapi is http only which is available on the internet only"
   ]
  },
  {
   "cell_type": "markdown",
   "id": "7fa3daee-fb57-4ed9-81fd-c7e1401fe826",
   "metadata": {},
   "source": [
    "Q4. Explain REST and SOAP Architecture. Mention shortcomings of SOAP."
   ]
  },
  {
   "cell_type": "markdown",
   "id": "39663dda-0720-4aa7-9983-7a70c786308d",
   "metadata": {},
   "source": [
    "REST is a set of guidelines that offers flexible implementation, whereas SOAP is a protocol with specific requirements like XML messaging\n",
    "the short coming of soap is it is very complex and doesnt store any cache."
   ]
  },
  {
   "cell_type": "markdown",
   "id": "b8eb1db8-adee-4ad9-b0ac-3982c9ea34ae",
   "metadata": {},
   "source": [
    "Q5. Differentiate between REST and SOAP."
   ]
  },
  {
   "cell_type": "markdown",
   "id": "15e31077-69f8-480f-88b5-6f6010b89206",
   "metadata": {},
   "source": [
    "Rest is a web based api and are accessed with put, get, post and delete commands whereas soap is an offline api and is accessed only through tcp/ smtp protocols. REST is simple, scalable and flexible to use. the short coming of soap is it is very complex and doesnt store any cache. "
   ]
  },
  {
   "cell_type": "code",
   "execution_count": null,
   "id": "db095df8-d676-415e-a6a9-e75dbcc01621",
   "metadata": {},
   "outputs": [],
   "source": []
  }
 ],
 "metadata": {
  "kernelspec": {
   "display_name": "Python 3 (ipykernel)",
   "language": "python",
   "name": "python3"
  },
  "language_info": {
   "codemirror_mode": {
    "name": "ipython",
    "version": 3
   },
   "file_extension": ".py",
   "mimetype": "text/x-python",
   "name": "python",
   "nbconvert_exporter": "python",
   "pygments_lexer": "ipython3",
   "version": "3.10.8"
  }
 },
 "nbformat": 4,
 "nbformat_minor": 5
}
