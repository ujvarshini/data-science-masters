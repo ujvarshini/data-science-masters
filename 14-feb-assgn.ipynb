{
 "cells": [
  {
   "cell_type": "markdown",
   "id": "928b3bd6-c2ac-49e4-87e8-6d059b12e3fa",
   "metadata": {},
   "source": [
    "### Q1. what is multithreading in python? why is it used? Name the module used to handle threads in python"
   ]
  },
  {
   "cell_type": "markdown",
   "id": "9f905525-6a8a-4662-b710-0632706db706",
   "metadata": {},
   "source": [
    "Multithreading is defined as the ability of a processor to execute multiple threads concurrently by occupying all resorces in same core The threading module is a high-level implementation of multithreading used to deploy an application in Python. To use multithreading, we need to import the threading module in Python Program. A start() method is used to initiate the activity of a thread."
   ]
  },
  {
   "cell_type": "markdown",
   "id": "90cb75ab-3497-45bd-8acc-3b4906a3cd64",
   "metadata": {},
   "source": [
    "### Q2 why threading module used? write the use of the following functions (activeCount, currentThread, enumerate)"
   ]
  },
  {
   "cell_type": "markdown",
   "id": "5634ee94-ef0d-47bd-b0be-f92fcd4fbd88",
   "metadata": {},
   "source": [
    "The threading module exposes all the methods of the thread module and provides some additional methods −\n",
    "\n",
    "threading.activeCount() − Returns the number of thread objects that are active.\n",
    "\n",
    "threading.currentThread() − Returns the number of thread objects in the caller's thread control.\n",
    "\n",
    "threading.enumerate() − Returns a list of all thread objects that are currently active."
   ]
  },
  {
   "cell_type": "markdown",
   "id": "e4386023-6734-4af2-9171-93660e64b98c",
   "metadata": {},
   "source": [
    "### Q3. Explain the following functions ( run, start, join, isAlive)"
   ]
  },
  {
   "cell_type": "markdown",
   "id": "f9e5a70b-e17a-4c93-94e4-081fb0c71be5",
   "metadata": {},
   "source": [
    "run() − The run() method is the entry point for a thread.\n",
    "\n",
    "start() − The start() method starts a thread by calling the run method.\n",
    "\n",
    "join([time]) − The join() waits for threads to terminate.\n",
    "\n",
    "isAlive() − The isAlive() method checks whether a thread is still executing."
   ]
  },
  {
   "cell_type": "markdown",
   "id": "d271cbac-c771-4849-9400-c1bbc1176717",
   "metadata": {},
   "source": [
    "### Q4. write a python program to create two threads. Thread one must print the list of squares and thread two must print the list of cubes"
   ]
  },
  {
   "cell_type": "code",
   "execution_count": 15,
   "id": "7265229d-9aac-4d8c-a9ef-9000cc8b8008",
   "metadata": {},
   "outputs": [],
   "source": [
    "import threading\n",
    "\n",
    "def square(num):\n",
    "    \n",
    "    print(num * num)\n",
    "    \n",
    "def cube(num):\n",
    "    \n",
    "    print(num * num * num)\n",
    "\n",
    "thr1 = [threading.Thread(target = square, args= (i,)) for i in [1, 2, 3, 4, 5]]\n",
    "\n",
    "thr2 = [threading.Thread(target = cube, args= (i,)) for i in [1, 2, 3, 4, 5]]"
   ]
  },
  {
   "cell_type": "code",
   "execution_count": 16,
   "id": "b8bd458b-da3a-417b-82f0-2018a97e8e72",
   "metadata": {},
   "outputs": [
    {
     "name": "stdout",
     "output_type": "stream",
     "text": [
      "1\n",
      "4\n",
      "9\n",
      "16\n",
      "25\n"
     ]
    }
   ],
   "source": [
    "for t in thr1:\n",
    "    t.start()"
   ]
  },
  {
   "cell_type": "code",
   "execution_count": 17,
   "id": "5237d458-3f10-459d-a74e-2ff54cca2988",
   "metadata": {},
   "outputs": [
    {
     "name": "stdout",
     "output_type": "stream",
     "text": [
      "1\n",
      "8\n",
      "27\n",
      "64\n",
      "125\n"
     ]
    }
   ],
   "source": [
    "for t in thr2:\n",
    "    t.start()"
   ]
  },
  {
   "cell_type": "markdown",
   "id": "be1d16a0-7c53-4bfa-975a-115af056b2d9",
   "metadata": {},
   "source": [
    "### Q5 State advantages and disadvantages of multithreading"
   ]
  },
  {
   "cell_type": "markdown",
   "id": "84b1f86d-a29f-4c86-9701-5d157bd29f53",
   "metadata": {},
   "source": [
    "#### Advantages\n",
    "Enhanced performance by decreased development time\n",
    "Simplified and streamlined program coding\n",
    "Improvised GUI responsiveness\n",
    "Simultaneous and parallelized occurrence of tasks\n",
    "Better use of cache storage by utilization of resources\n",
    "Decreased cost of maintenance\n",
    "\n",
    "#### Disadvantages\n",
    "\n",
    "Complex debugging and testing processes\n",
    "Overhead switching of context\n",
    "Increased potential for deadlock occurrence\n",
    "Increased difficulty level in writing a program\n",
    "Unpredictable results"
   ]
  },
  {
   "cell_type": "markdown",
   "id": "7b6478b7-f320-43f4-9ca9-1cd6b718b66e",
   "metadata": {},
   "source": [
    "### Q6 Explain deadlocks and race conditions."
   ]
  },
  {
   "cell_type": "markdown",
   "id": "d2907603-3a0a-492d-9885-3b3cd0ce6490",
   "metadata": {},
   "source": [
    "Race Condition And Deadlock\n",
    "A race condition occurs when two threads use the same variable at a given time. Deadlock exists when two threads seek one lock simultaneously. This situation will stop both threads from processing or executing the functions."
   ]
  },
  {
   "cell_type": "code",
   "execution_count": null,
   "id": "323f421d-86f5-4fcd-9971-c4b0942d7e27",
   "metadata": {},
   "outputs": [],
   "source": []
  }
 ],
 "metadata": {
  "kernelspec": {
   "display_name": "Python 3 (ipykernel)",
   "language": "python",
   "name": "python3"
  },
  "language_info": {
   "codemirror_mode": {
    "name": "ipython",
    "version": 3
   },
   "file_extension": ".py",
   "mimetype": "text/x-python",
   "name": "python",
   "nbconvert_exporter": "python",
   "pygments_lexer": "ipython3",
   "version": "3.10.8"
  }
 },
 "nbformat": 4,
 "nbformat_minor": 5
}
