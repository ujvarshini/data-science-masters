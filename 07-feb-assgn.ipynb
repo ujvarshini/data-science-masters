{
 "cells": [
  {
   "cell_type": "markdown",
   "id": "df3f5f12-5c5e-4b39-b838-1d6baa9f51fb",
   "metadata": {},
   "source": [
    "Q1. You are writing code for a company. The requirement of the company is that you create a python\n",
    "function that will check whether the password entered by the user is correct or not. The function should\n",
    "take the password as input and return the string “Valid Password” if the entered password follows the\n",
    "below-given password guidelines else it should return “Invalid Password”.\n",
    "Note: 1. The Password should contain at least two uppercase letters and at least two lowercase letters.\n",
    "2. The Password should contain at least a number and three special characters.\n",
    "3. The length of the password should be 10 characters long."
   ]
  },
  {
   "cell_type": "code",
   "execution_count": 37,
   "id": "8400f122-0a5b-45d9-89b5-e9ed9b5a7f7f",
   "metadata": {},
   "outputs": [
    {
     "name": "stdout",
     "output_type": "stream",
     "text": [
      "Invalid password\n"
     ]
    }
   ],
   "source": [
    "import re\n",
    "password = \"PAss1/&*ghk\"\n",
    "if len(password) == 10:\n",
    "    pattern = re.compile(\"(?=(.*[a-z]){2,})(?=(.*[A-Z]){2,})(?=(.*[0-9]){1,})(?=(.*[|^&+\\-%*/=!>]){3,})\")\n",
    "    if pattern.match(password):\n",
    "        print(\"Valid password\")\n",
    "\n",
    "else:\n",
    "    print(\"Invalid password\")"
   ]
  },
  {
   "cell_type": "markdown",
   "id": "1c4658ce-ee61-41a9-8faa-e2c2c4de2c19",
   "metadata": {},
   "source": [
    "Q2. Solve the below-given questions using at least one of the following:\n",
    "1. Lambda function\n",
    "2. Filter function\n",
    "3. Map function\n",
    "4. List Comprehension\n",
    "\n",
    "1. Check if the string starts with a particular letter\n",
    "2. Check if the string is numeric\n",
    "3. Sort a list of tuples having fruit names and their quantity. [(\"mango\",99),(\"orange\",80), (\"grapes\", 1000)]\n",
    "4. Find the squares of numbers from 1 to 10\n",
    "5. Find the cube root of numbers from 1 to 10\n",
    "6. Check if a given number is even\n",
    "7. Filter odd numbers from the given list.\n",
    "[1,2,3,4,5,6,7,8,9,10]\n",
    "\n",
    "8. Sort a list of integers into positive and negative integers lists.\n",
    "[1,2,3,4,5,6,-1,-2,-3,-4,-5,0]"
   ]
  },
  {
   "cell_type": "code",
   "execution_count": 40,
   "id": "84bf743b-7be2-4c66-9513-ca07db7917ef",
   "metadata": {},
   "outputs": [
    {
     "name": "stdout",
     "output_type": "stream",
     "text": [
      "['apple', 'apricot']\n"
     ]
    }
   ],
   "source": [
    "### CHECK IF THE STRING STARTS WITH A PARTICULAR LETTER\n",
    "\n",
    "a_list = ['apple', 'banana', 'cocoa', 'daisy', 'apricot']\n",
    "\n",
    "new = [x for x in a_list if x[0]== \"a\"]\n",
    "\n",
    "print(new)"
   ]
  },
  {
   "cell_type": "code",
   "execution_count": 3,
   "id": "4c656791-5575-4608-bc56-a053343b27c3",
   "metadata": {},
   "outputs": [
    {
     "name": "stdout",
     "output_type": "stream",
     "text": [
      "True\n",
      "False\n"
     ]
    }
   ],
   "source": [
    "### CHECK IF THE STRING IS NUMERIC\n",
    "\n",
    "is_num = lambda q: q.replace('.','',1).isdigit()\n",
    "is_num1 = lambda r: is_num(r[1:]) if r[0]=='-' else is_num(r)\n",
    "print(is_num1('-16.4'))\n",
    "print(is_num1('-24587.1a1'))"
   ]
  },
  {
   "cell_type": "code",
   "execution_count": 6,
   "id": "23b4e06b-7b49-41c9-8467-56518cc6b2c0",
   "metadata": {},
   "outputs": [
    {
     "data": {
      "text/plain": [
       "[('orange', 80), ('mango', 99), ('grapes', 1000)]"
      ]
     },
     "execution_count": 6,
     "metadata": {},
     "output_type": "execute_result"
    }
   ],
   "source": [
    "### SORT a list of tuples having fruit names and their quantity. [(\"mango\",99),(\"orange\",80), (\"grapes\", 1000)]\n",
    "\n",
    "tup_list = [(\"mango\",99),(\"orange\",80), (\"grapes\", 1000)]\n",
    "\n",
    "sorted(\n",
    "    [(\"mango\",99),(\"orange\",80), (\"grapes\", 1000)], \n",
    "    key=lambda x: x[1]\n",
    ")"
   ]
  },
  {
   "cell_type": "code",
   "execution_count": 7,
   "id": "b06076f0-c560-4dbe-9b1c-a1dba7770bbb",
   "metadata": {},
   "outputs": [],
   "source": [
    "### Find the squares of numbers from 1 to 10\n",
    "\n",
    "#return the list of square of all the numbers in list\n",
    "\n",
    "l=[1,2,3,4,5,6,7,8,9,10]\n",
    "\n",
    "def sq(x):\n",
    "    return x**2"
   ]
  },
  {
   "cell_type": "code",
   "execution_count": 9,
   "id": "554af32f-b26f-47a9-9baf-01ad15a10248",
   "metadata": {},
   "outputs": [
    {
     "data": {
      "text/plain": [
       "[1, 4, 9, 16, 25, 36, 49, 64, 81, 100]"
      ]
     },
     "execution_count": 9,
     "metadata": {},
     "output_type": "execute_result"
    }
   ],
   "source": [
    "list(map(sq,l))"
   ]
  },
  {
   "cell_type": "code",
   "execution_count": 10,
   "id": "aa9543cd-4531-404d-a41e-710ae086d9e8",
   "metadata": {},
   "outputs": [],
   "source": [
    "### Find the cube root of numbers from 1 to 10\n",
    "\n",
    "from numpy import cbrt\n",
    "def cube_root(x):\n",
    "    \n",
    "    return cbrt(x)"
   ]
  },
  {
   "cell_type": "code",
   "execution_count": 11,
   "id": "cb304ea9-e83c-4120-9a31-a43dbbd408b1",
   "metadata": {},
   "outputs": [
    {
     "data": {
      "text/plain": [
       "[1.0,\n",
       " 1.2599210498948734,\n",
       " 1.4422495703074083,\n",
       " 1.5874010519681996,\n",
       " 1.7099759466766968,\n",
       " 1.8171205928321394,\n",
       " 1.9129311827723894,\n",
       " 2.0,\n",
       " 2.080083823051904,\n",
       " 2.1544346900318834]"
      ]
     },
     "execution_count": 11,
     "metadata": {},
     "output_type": "execute_result"
    }
   ],
   "source": [
    "list(map(cube_root,l))"
   ]
  },
  {
   "cell_type": "code",
   "execution_count": 23,
   "id": "13fa4888-8209-4750-8d6f-5677f4537d6b",
   "metadata": {},
   "outputs": [],
   "source": [
    "### Check if a given number is even\n",
    "\n",
    "x = 3\n",
    "\n",
    "eve = [\"even\" if x%2 ==0 else \"odd\"]"
   ]
  },
  {
   "cell_type": "code",
   "execution_count": 24,
   "id": "7081cdd8-11df-494d-9ab8-0c22ee45c888",
   "metadata": {},
   "outputs": [
    {
     "data": {
      "text/plain": [
       "['odd']"
      ]
     },
     "execution_count": 24,
     "metadata": {},
     "output_type": "execute_result"
    }
   ],
   "source": [
    "eve"
   ]
  },
  {
   "cell_type": "code",
   "execution_count": 25,
   "id": "2394089b-c3e3-40f6-8416-7b82dee2cd6e",
   "metadata": {},
   "outputs": [
    {
     "data": {
      "text/plain": [
       "[1, 3, 5, 7, 9]"
      ]
     },
     "execution_count": 25,
     "metadata": {},
     "output_type": "execute_result"
    }
   ],
   "source": [
    "### Filter odd numbers from the given list. [1,2,3,4,5,6,7,8,9,10]\n",
    "l2 = [1,2,3,4,5,6,7,8,9,10]\n",
    "\n",
    "list(filter(lambda x: x%2 != 0 ,l2))"
   ]
  },
  {
   "cell_type": "code",
   "execution_count": 43,
   "id": "06a869a4-ef04-4d59-af9b-86831b8e91c4",
   "metadata": {},
   "outputs": [],
   "source": [
    "### Sort a list of integers into positive and negative integers lists. [1,2,3,4,5,6,-1,-2,-3,-4,-5,0]\n",
    "\n",
    "ls = [1,2,3,4,5,6,-1,-2,-3,-4,-5,0]\n"
   ]
  },
  {
   "cell_type": "code",
   "execution_count": 44,
   "id": "09e0f487-d67a-4cb6-adda-ac42f48b8d22",
   "metadata": {},
   "outputs": [],
   "source": [
    "B,C=[i for i in ls if i<0 ],[j for j in ls if j>0]"
   ]
  },
  {
   "cell_type": "code",
   "execution_count": 45,
   "id": "f8f4bd67-6cdc-4061-9ee3-058d74d9f629",
   "metadata": {},
   "outputs": [
    {
     "data": {
      "text/plain": [
       "[1, 2, 3, 4, 5, 6]"
      ]
     },
     "execution_count": 45,
     "metadata": {},
     "output_type": "execute_result"
    }
   ],
   "source": [
    "C"
   ]
  },
  {
   "cell_type": "code",
   "execution_count": null,
   "id": "f567d7ca-8be7-4bae-9fc9-f44b70ca8cef",
   "metadata": {},
   "outputs": [],
   "source": []
  }
 ],
 "metadata": {
  "kernelspec": {
   "display_name": "Python 3 (ipykernel)",
   "language": "python",
   "name": "python3"
  },
  "language_info": {
   "codemirror_mode": {
    "name": "ipython",
    "version": 3
   },
   "file_extension": ".py",
   "mimetype": "text/x-python",
   "name": "python",
   "nbconvert_exporter": "python",
   "pygments_lexer": "ipython3",
   "version": "3.10.8"
  }
 },
 "nbformat": 4,
 "nbformat_minor": 5
}
