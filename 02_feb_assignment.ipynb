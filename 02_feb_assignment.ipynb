{
 "cells": [
  {
   "cell_type": "markdown",
   "id": "0bdc7f8f-e44c-4a1b-923f-50f50ef63453",
   "metadata": {},
   "source": [
    "1. Characteristic of tuples\n",
    "    1. It can store all datatypes\n",
    "    2. Slicing is possible\n",
    "    3. Indexing can be done\n",
    "    4. Tuple does not support item assignment. it is immutable"
   ]
  },
  {
   "cell_type": "markdown",
   "id": "1934b6c6-147e-4d5b-b70f-372d1a01399b",
   "metadata": {},
   "source": [
    "2. Tuple has only two methods: \n",
    "    1. Count method\n",
    "    2. Index method as compared to lists because tuples are immutable unlike lists"
   ]
  },
  {
   "cell_type": "code",
   "execution_count": 1,
   "id": "0eae7f36-c8bf-4c84-ab65-700fc2e85aa5",
   "metadata": {},
   "outputs": [
    {
     "data": {
      "text/plain": [
       "7"
      ]
     },
     "execution_count": 1,
     "metadata": {},
     "output_type": "execute_result"
    }
   ],
   "source": [
    "### A. countmethod\n",
    "a = (2,5,6,5,8,5,5)\n",
    "len(a)"
   ]
  },
  {
   "cell_type": "code",
   "execution_count": 5,
   "id": "fecc2332-36c1-4bed-bcc4-c76705c03104",
   "metadata": {},
   "outputs": [
    {
     "name": "stdout",
     "output_type": "stream",
     "text": [
      "(6, 5, 8, 5)\n"
     ]
    }
   ],
   "source": [
    "### Index method\n",
    "t = (2,5,6,5,8,5,5)\n",
    "\n",
    "print(t[2:6])"
   ]
  },
  {
   "cell_type": "markdown",
   "id": "c115532f-0076-4ac3-81e4-0d8e2eeda6ae",
   "metadata": {},
   "source": [
    "3. SET is a collection that does not allow duplicates"
   ]
  },
  {
   "cell_type": "code",
   "execution_count": 1,
   "id": "992c8856-3b1c-42de-adf0-11c097c0c3ad",
   "metadata": {},
   "outputs": [
    {
     "data": {
      "text/plain": [
       "{1, 2, 3, 4}"
      ]
     },
     "execution_count": 1,
     "metadata": {},
     "output_type": "execute_result"
    }
   ],
   "source": [
    "List = [1, 1, 1, 2, 1, 3, 1, 4, 2, 1, 2, 2, 2, 3, 2, 4, 3, 1, 3, 2, 3, 3, 3, 4, 4, 1, 4, 2, 4, 3, 4, 4]\n",
    "set(List)"
   ]
  },
  {
   "cell_type": "markdown",
   "id": "242f610d-0a33-4292-a04e-3bab29941e85",
   "metadata": {},
   "source": [
    "Q4. Explain the difference between the union() and update() methods for a set. Give an example of\n",
    "each method."
   ]
  },
  {
   "cell_type": "code",
   "execution_count": 16,
   "id": "a1d54b7f-3340-4928-b73c-506dcb57926a",
   "metadata": {},
   "outputs": [
    {
     "name": "stdout",
     "output_type": "stream",
     "text": [
      "{1, 5}\n"
     ]
    }
   ],
   "source": [
    "### the function of set union returns the union of the set where it returns a copy of the union value \n",
    "a = {1,5}\n",
    "a.union({1,6,4})\n",
    "print(a)"
   ]
  },
  {
   "cell_type": "code",
   "execution_count": 14,
   "id": "5a3f62c2-2fc6-4599-97a0-073fb5901982",
   "metadata": {},
   "outputs": [
    {
     "data": {
      "text/plain": [
       "{1, 4, 5}"
      ]
     },
     "execution_count": 14,
     "metadata": {},
     "output_type": "execute_result"
    }
   ],
   "source": [
    "### the update method returns the union by inplace the original valyue\n",
    "\n",
    "a.update({4})\n",
    "a"
   ]
  },
  {
   "cell_type": "markdown",
   "id": "9b86e7d0-c1c1-45d3-bdcb-c841bd668055",
   "metadata": {},
   "source": [
    "Q5. What is a dictionary? Give an example. Also, state whether a dictionary is ordered or unordered."
   ]
  },
  {
   "cell_type": "markdown",
   "id": "af203633-6b12-4332-8fe7-6c8ed92e8866",
   "metadata": {},
   "source": [
    "A dictionary is a key and value pair where data is stored inside a dictonary like word and its meaning in a real dictionary. \n",
    "It is ordered "
   ]
  },
  {
   "cell_type": "code",
   "execution_count": 18,
   "id": "f307348b-1e94-4cb2-9734-e0c114593f8a",
   "metadata": {},
   "outputs": [
    {
     "name": "stdout",
     "output_type": "stream",
     "text": [
      "{1: 'cat', 2: 'dog', 3: 'frog'}\n"
     ]
    }
   ],
   "source": [
    "###example\n",
    "\n",
    "example = {1:'cat', 2:'dog', 3:'frog'}\n",
    "print(example)"
   ]
  },
  {
   "cell_type": "markdown",
   "id": "8ba3bd28-65b0-40fc-b236-7e79e0a5f811",
   "metadata": {},
   "source": [
    "Q6. Can we create a nested dictionary? If so, please give an example by creating a simple one-level\n",
    "nested dictionary."
   ]
  },
  {
   "cell_type": "code",
   "execution_count": 33,
   "id": "0830ad6e-a4de-4162-9be1-c22d0a661e47",
   "metadata": {},
   "outputs": [],
   "source": [
    "# a nested dictionary can be created\n",
    "\n",
    "dict_1 = {'class_id':{ 1 :'ram',\n",
    "                     2 : 'rahu',\n",
    "                     3: 'steve'}}"
   ]
  },
  {
   "cell_type": "code",
   "execution_count": 35,
   "id": "25fc67a6-aaee-4f15-958c-daf50c28d7dc",
   "metadata": {},
   "outputs": [
    {
     "data": {
      "text/plain": [
       "'ram'"
      ]
     },
     "execution_count": 35,
     "metadata": {},
     "output_type": "execute_result"
    }
   ],
   "source": [
    "dict_1 ['class_id'][1]"
   ]
  },
  {
   "cell_type": "markdown",
   "id": "d03ab4ac-0520-4d3b-be1d-d555e7da9591",
   "metadata": {},
   "source": [
    "Q7. Using setdefault() method, create key named topics in the given dictionary and also add the value of\n",
    "the key as this list ['Python', 'Machine Learning’, 'Deep Learning']"
   ]
  },
  {
   "cell_type": "code",
   "execution_count": 38,
   "id": "a20db020-6bf8-4882-b984-a94e50a2902f",
   "metadata": {},
   "outputs": [],
   "source": [
    "d = {'topics' :['Python','Machine Learning','Deep learning']}"
   ]
  },
  {
   "cell_type": "code",
   "execution_count": 39,
   "id": "8a3ca1fa-6c38-4385-a049-45bc3577319b",
   "metadata": {},
   "outputs": [
    {
     "data": {
      "text/plain": [
       "['Python', 'Machine Learning', 'Deep learning']"
      ]
     },
     "execution_count": 39,
     "metadata": {},
     "output_type": "execute_result"
    }
   ],
   "source": [
    "d.setdefault('topics')"
   ]
  },
  {
   "cell_type": "markdown",
   "id": "9ddc71b9-0798-4707-8b21-7743e2047af7",
   "metadata": {},
   "source": [
    "Q8. What are the three view objects in dictionaries? Use the three in-built methods in python to display\n",
    "these three view objects for the given dictionary."
   ]
  },
  {
   "cell_type": "code",
   "execution_count": 41,
   "id": "0eb6ee29-22ef-4876-8e93-659b3a35aa06",
   "metadata": {},
   "outputs": [
    {
     "data": {
      "text/plain": [
       "dict_items([('Sport', 'Cricket'), ('Teams', ['India', 'Australia', 'England', 'South Africa', 'Sri Lanka', 'New Zealand'])])"
      ]
     },
     "execution_count": 41,
     "metadata": {},
     "output_type": "execute_result"
    }
   ],
   "source": [
    "'''\n",
    "\n",
    "the three view objects are key value and items\n",
    "'''\n",
    "\n",
    "dict1 = {'Sport': 'Cricket' , 'Teams': ['India', 'Australia', 'England', 'South Africa', 'Sri Lanka', 'New Zealand']}\n",
    "\n",
    "dict1.items()\n"
   ]
  },
  {
   "cell_type": "code",
   "execution_count": 42,
   "id": "bec99efd-b457-4438-8eaa-61c448123d91",
   "metadata": {},
   "outputs": [
    {
     "data": {
      "text/plain": [
       "dict_keys(['Sport', 'Teams'])"
      ]
     },
     "execution_count": 42,
     "metadata": {},
     "output_type": "execute_result"
    }
   ],
   "source": [
    "dict1.keys()"
   ]
  },
  {
   "cell_type": "code",
   "execution_count": 43,
   "id": "c0809744-ed2b-4c68-a46a-86fc249abbfe",
   "metadata": {},
   "outputs": [
    {
     "data": {
      "text/plain": [
       "dict_values(['Cricket', ['India', 'Australia', 'England', 'South Africa', 'Sri Lanka', 'New Zealand']])"
      ]
     },
     "execution_count": 43,
     "metadata": {},
     "output_type": "execute_result"
    }
   ],
   "source": [
    "dict1.values()"
   ]
  },
  {
   "cell_type": "code",
   "execution_count": null,
   "id": "2226da62-1553-475b-98dc-27e027581453",
   "metadata": {},
   "outputs": [],
   "source": []
  }
 ],
 "metadata": {
  "kernelspec": {
   "display_name": "Python 3 (ipykernel)",
   "language": "python",
   "name": "python3"
  },
  "language_info": {
   "codemirror_mode": {
    "name": "ipython",
    "version": 3
   },
   "file_extension": ".py",
   "mimetype": "text/x-python",
   "name": "python",
   "nbconvert_exporter": "python",
   "pygments_lexer": "ipython3",
   "version": "3.10.8"
  }
 },
 "nbformat": 4,
 "nbformat_minor": 5
}
