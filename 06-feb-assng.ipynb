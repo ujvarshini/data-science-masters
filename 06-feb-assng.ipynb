{
 "cells": [
  {
   "cell_type": "markdown",
   "id": "08854f41-d8f8-496b-8c0c-37f2136ecb3c",
   "metadata": {},
   "source": [
    "Q1. Create a function which will take a list as an argument and return the product of all the numbers\n",
    "after creating a flat list.\n",
    "Use the below-given list as an argument for your function.\n",
    "list1 = [1,2,3,4, [44,55,66, True], False, (34,56,78,89,34), {1,2,3,3,2,1}, {1:34, \"key2\": [55, 67, 78, 89], 4: (45,\n",
    "22, 61, 34)}, [56, 'data science'], 'Machine Learning']\n",
    "Note: you must extract numeric keys and values of the dictionary also."
   ]
  },
  {
   "cell_type": "code",
   "execution_count": 8,
   "id": "9924f7e7-e1e4-40c2-9149-5cebe4059554",
   "metadata": {},
   "outputs": [
    {
     "name": "stdout",
     "output_type": "stream",
     "text": [
      "1\n",
      "2\n"
     ]
    }
   ],
   "source": [
    "d2 = {1:'hi',2:451}\n",
    "\n",
    "for key in d2:\n",
    "    print()"
   ]
  },
  {
   "cell_type": "code",
   "execution_count": 11,
   "id": "32b4a132-70e8-4539-9a64-5e1a031b5034",
   "metadata": {},
   "outputs": [],
   "source": [
    "list1 = [1,2,3,4, [44,55,66, True], False, (34,56,78,89,34), {1,2,3,3,2,1}, \n",
    "         {1:34, \"key2\": [55, 67, 78, 89], 4: (45, 22, 61, 34)}, [56, 'data science'], 'Machine Learning']\n",
    "\n",
    "def fn(list1):\n",
    "    f_list = []\n",
    "    for i in list1:\n",
    "        if type(i) == int:\n",
    "            f_list.append(i)\n",
    "        elif type(i) == list:\n",
    "            \n",
    "                for j in i:\n",
    "                    if type(j) == int:\n",
    "                        f_list.append(j)\n",
    "        elif type(i) == set:\n",
    "            \n",
    "                for k in i:\n",
    "                    if type(k) == int:\n",
    "                        f_list.append(k)\n",
    "        elif type(i) == dict:\n",
    "            for value in i.items():\n",
    "                if type(value) == list or tuple:\n",
    "                    for v in value:\n",
    "                        if type(v)== int:\n",
    "                            f_list.append(v)\n",
    "                elif type(value) == int:\n",
    "                    f_list.append(value)\n",
    "            for key in i:    \n",
    "                if type(key) == int:\n",
    "                    f_list.append(key)\n",
    "        else:\n",
    "            pass\n",
    "        \n",
    "    return f_list"
   ]
  },
  {
   "cell_type": "code",
   "execution_count": 12,
   "id": "34367f39-3390-4791-bbfe-16e3f734f83d",
   "metadata": {},
   "outputs": [
    {
     "data": {
      "text/plain": [
       "[1, 2, 3, 4, 44, 55, 66, 1, 2, 3, 1, 34, 4, 1, 4, 56]"
      ]
     },
     "execution_count": 12,
     "metadata": {},
     "output_type": "execute_result"
    }
   ],
   "source": [
    "fn(list1)"
   ]
  },
  {
   "cell_type": "markdown",
   "id": "7146c927-7d92-4ce5-969c-9f83f2b5dac4",
   "metadata": {},
   "source": [
    "Q2. Write a python program for encrypting a message sent to you by your friend. The logic of encryption\n",
    "should be such that, for a the output should be z. For b, the output should be y. For c, the output should\n",
    "be x respectively. Also, the whitespace should be replaced with a dollar sign. Keep the punctuation\n",
    "marks unchanged.\n",
    "Input Sentence: I want to become a Data Scientist.\n",
    "Encrypt the above input sentence using the program you just created.\n",
    "Note: Convert the given input sentence into lowercase before encrypting. The final output should be\n",
    "lowercase."
   ]
  },
  {
   "cell_type": "code",
   "execution_count": 13,
   "id": "52486498-7bf3-401c-8747-296c7bab4312",
   "metadata": {},
   "outputs": [
    {
     "data": {
      "text/plain": [
       "'r$dzmg$gl$yvxlnv$z$wzgz$hxrvmgrhg'"
      ]
     },
     "execution_count": 13,
     "metadata": {},
     "output_type": "execute_result"
    }
   ],
   "source": [
    "alphabet = 'abcdefghijklmnopqrstuvwxyz'\n",
    "trans = str.maketrans(alphabet, alphabet[::-1],' ')\n",
    "sentence = \"I want to become a Data Scientist\"\n",
    "s = sentence.replace(' ','$')\n",
    "s.lower().translate(trans)"
   ]
  },
  {
   "cell_type": "code",
   "execution_count": null,
   "id": "eb8d02f6-d23d-4220-b02a-2e12a6fef62f",
   "metadata": {},
   "outputs": [],
   "source": []
  }
 ],
 "metadata": {
  "kernelspec": {
   "display_name": "Python 3 (ipykernel)",
   "language": "python",
   "name": "python3"
  },
  "language_info": {
   "codemirror_mode": {
    "name": "ipython",
    "version": 3
   },
   "file_extension": ".py",
   "mimetype": "text/x-python",
   "name": "python",
   "nbconvert_exporter": "python",
   "pygments_lexer": "ipython3",
   "version": "3.10.8"
  }
 },
 "nbformat": 4,
 "nbformat_minor": 5
}
