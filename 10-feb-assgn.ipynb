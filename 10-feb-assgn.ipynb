{
 "cells": [
  {
   "cell_type": "markdown",
   "id": "6ee8f997-11f0-4956-ac64-1f3bcd78eead",
   "metadata": {},
   "source": [
    "Q1. Which function is used to open a file? What are the different modes of opening a file? Explain each mode\n",
    "of file opening."
   ]
  },
  {
   "cell_type": "code",
   "execution_count": 1,
   "id": "bb6052ac-125e-4de0-ba70-11c8159dd730",
   "metadata": {},
   "outputs": [
    {
     "data": {
      "text/plain": [
       "'\\nTo open a file open(\" file name \") function is used.\\n\\nThere are 3 modes to open a file\\n\\n\\'r\\' mode is used to open a file for reading\\n\\'w\\' mode is used to open a file for writing\\n\\'a\\' mode is used to open a file for appending to the end of the file\\n\\n'"
      ]
     },
     "execution_count": 1,
     "metadata": {},
     "output_type": "execute_result"
    }
   ],
   "source": [
    "'''\n",
    "To open a file open(\" file name \") function is used.\n",
    "\n",
    "There are 3 modes to open a file\n",
    "\n",
    "'r' mode is used to open a file for reading\n",
    "'w' mode is used to open a file for writing\n",
    "'a' mode is used to open a file for appending to the end of the file\n",
    "\n",
    "'''"
   ]
  },
  {
   "cell_type": "markdown",
   "id": "87767fb5-b14b-484f-8f46-5a59f7d5778b",
   "metadata": {},
   "source": [
    "Q2. Why close() function is used? Why is it important to close a file?"
   ]
  },
  {
   "cell_type": "code",
   "execution_count": 2,
   "id": "31277ea5-f249-491c-bc8e-5435f694cce7",
   "metadata": {},
   "outputs": [
    {
     "data": {
      "text/plain": [
       "'\\nclose() function is used to close a file after writing. \\nIf it is not closed the file would still be in the write mode and changes made to a file may not show until you close the file\\n'"
      ]
     },
     "execution_count": 2,
     "metadata": {},
     "output_type": "execute_result"
    }
   ],
   "source": [
    "'''\n",
    "close() function is used to close a file after writing. \n",
    "If it is not closed the file would still be in the write mode and changes made to a file may not show until you close the file\n",
    "'''"
   ]
  },
  {
   "cell_type": "markdown",
   "id": "b62c7413-4b99-4b88-a637-034ab12e119b",
   "metadata": {},
   "source": [
    "Q3. Write a python program to create a text file. Write ‘I want to become a Data Scientist’ in that file. Then\n",
    "close the file. Open this file and read the content of the file."
   ]
  },
  {
   "cell_type": "code",
   "execution_count": 3,
   "id": "0b4e9b90-c507-48ea-9085-005d9e5f36eb",
   "metadata": {},
   "outputs": [],
   "source": [
    "### creating a text file\n",
    "\n",
    "f = open(\"assignment.txt\",'w')\n",
    "\n",
    "f.write(\"I want to become a Data Scientist\")\n",
    "\n",
    "f.close()"
   ]
  },
  {
   "cell_type": "code",
   "execution_count": 4,
   "id": "ecb5c2da-c6c0-4dec-b24a-02e3a455dfc6",
   "metadata": {},
   "outputs": [
    {
     "name": "stdout",
     "output_type": "stream",
     "text": [
      "I want to become a Data Scientist\n"
     ]
    }
   ],
   "source": [
    "with open(\"assignment.txt\", 'r') as f:\n",
    "    print(f.read())"
   ]
  },
  {
   "cell_type": "markdown",
   "id": "a93868be-300f-4a93-93be-9494ec3e606c",
   "metadata": {},
   "source": [
    "Q4. Explain the following with python code: read(), readline() and readlines()."
   ]
  },
  {
   "cell_type": "code",
   "execution_count": 8,
   "id": "4d602b48-c8f0-42a9-a3b8-9f7796425b31",
   "metadata": {},
   "outputs": [],
   "source": [
    "### creating a text file\n",
    "\n",
    "f = open(\"assignment.txt\",'w')\n",
    "f.write(\"I want to become a Data Scientist\\n Its been amazing to learn python skills and practice\")\n",
    "\n",
    "f.close()"
   ]
  },
  {
   "cell_type": "code",
   "execution_count": 9,
   "id": "4042c13a-2502-47c2-95c1-6423e7f72337",
   "metadata": {},
   "outputs": [
    {
     "name": "stdout",
     "output_type": "stream",
     "text": [
      "I want to become a Data Scientist\n",
      " Its been amazing to learn python skills and practice\n"
     ]
    }
   ],
   "source": [
    "### Read() method reads the entire contents of a file and returns it as a string.\n",
    "\n",
    "with open(\"assignment.txt\", 'r') as f:\n",
    "    print(f.read())\n"
   ]
  },
  {
   "cell_type": "code",
   "execution_count": 10,
   "id": "e7fcb085-ebc7-4cc8-9cb6-5caeea52327d",
   "metadata": {},
   "outputs": [
    {
     "name": "stdout",
     "output_type": "stream",
     "text": [
      "I want to become a Data Scientist\n",
      "Its been amazing to learn python skills and practice\n"
     ]
    }
   ],
   "source": [
    "### The readline method reads a single line from a file and returns it as a string\n",
    "\n",
    "with open(\"assignment.txt\", 'r') as f:\n",
    "    line = f.readline()\n",
    "    while line:\n",
    "        print(line.strip())\n",
    "        line = f.readline()"
   ]
  },
  {
   "cell_type": "code",
   "execution_count": 11,
   "id": "11494174-2620-422e-acac-d79d1d234f08",
   "metadata": {},
   "outputs": [
    {
     "name": "stdout",
     "output_type": "stream",
     "text": [
      "I want to become a Data Scientist\n",
      "Its been amazing to learn python skills and practice\n"
     ]
    }
   ],
   "source": [
    "### The readline method reads a single line from a file and returns it as a string, while the readlines method reads the entire contents of a file and returns it as a list of strings, where each element of the list is a single line of the file.\n",
    "\n",
    "with open(\"assignment.txt\", 'r') as file:\n",
    "    lines = file.readlines()\n",
    "    for line in lines:\n",
    "        print(line.strip())"
   ]
  },
  {
   "cell_type": "markdown",
   "id": "4e96d98f-f2e2-4fa6-80e1-29310e990ff4",
   "metadata": {},
   "source": [
    "Q5. Explain why with statement is used with open(). What is the advantage of using with statement and\n",
    "open() together?"
   ]
  },
  {
   "cell_type": "code",
   "execution_count": 12,
   "id": "6a4f7da4-aa9c-471b-89ec-f695d1278179",
   "metadata": {},
   "outputs": [
    {
     "data": {
      "text/plain": [
       "'\\nthe with statement closes the file  without telling it to close the file. when with statement is called along with open()\\nit opens the file with entry method and closes the file with an exit method\\n'"
      ]
     },
     "execution_count": 12,
     "metadata": {},
     "output_type": "execute_result"
    }
   ],
   "source": [
    "'''\n",
    "the with statement closes the file  without telling it to close the file. when with statement is called along with open()\n",
    "it opens the file with entry method and closes the file with an exit method\n",
    "'''"
   ]
  },
  {
   "cell_type": "markdown",
   "id": "039c17bc-d3d8-41c5-9a12-e4d49ed2562e",
   "metadata": {},
   "source": [
    "Q6. Explain the write() and writelines() functions. Give a suitable example."
   ]
  },
  {
   "cell_type": "code",
   "execution_count": 14,
   "id": "a3ad35dc-d9ed-43a7-9f33-4a5cba97189f",
   "metadata": {},
   "outputs": [
    {
     "name": "stdout",
     "output_type": "stream",
     "text": [
      "See you soon!\n"
     ]
    }
   ],
   "source": [
    "### The write() function will write the content in the file without adding any extra characters.\n",
    "\n",
    "f = open(\"demofile2.txt\", \"a\")\n",
    "f.write(\"See you soon!\")\n",
    "f.close()\n",
    "\n",
    "#open and read the file after the appending:\n",
    "f = open(\"demofile2.txt\", \"r\")\n",
    "print(f.read())"
   ]
  },
  {
   "cell_type": "code",
   "execution_count": 13,
   "id": "6b56a808-b7ee-421e-b63f-f8bf2e62a62a",
   "metadata": {},
   "outputs": [
    {
     "name": "stdout",
     "output_type": "stream",
     "text": [
      "See you soon!Over and out.\n"
     ]
    }
   ],
   "source": [
    "### The writelines() method writes the items of a list to the file.\n",
    "\n",
    "f = open(\"demofile3.txt\", \"a\")\n",
    "f.writelines([\"See you soon!\", \"Over and out.\"])\n",
    "f.close()\n",
    "\n",
    "#open and read the file after the appending:\n",
    "f = open(\"demofile3.txt\", \"r\")\n",
    "print(f.read())"
   ]
  }
 ],
 "metadata": {
  "kernelspec": {
   "display_name": "Python 3 (ipykernel)",
   "language": "python",
   "name": "python3"
  },
  "language_info": {
   "codemirror_mode": {
    "name": "ipython",
    "version": 3
   },
   "file_extension": ".py",
   "mimetype": "text/x-python",
   "name": "python",
   "nbconvert_exporter": "python",
   "pygments_lexer": "ipython3",
   "version": "3.10.8"
  }
 },
 "nbformat": 4,
 "nbformat_minor": 5
}
