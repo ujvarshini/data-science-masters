{
 "cells": [
  {
   "cell_type": "markdown",
   "id": "c88dead7-fc94-43d4-b724-b82bcc58600f",
   "metadata": {},
   "source": [
    "Q1, Create a vehicle class with an init method having instance variables as name_of_vehicle, max_speed\n",
    "and average_of_vehicle."
   ]
  },
  {
   "cell_type": "code",
   "execution_count": 1,
   "id": "96a3c1eb-c5d9-4be8-8fc4-b1a139a64862",
   "metadata": {},
   "outputs": [],
   "source": [
    "class vehicle:\n",
    "    \n",
    "    def __init__(self, name_of_vehicle, max_speed, average_of_vehicle):\n",
    "        self.name_of_vehicle = name_of_vehicle\n",
    "        self.max_speed = max_speed\n",
    "        self.average_of_vehicle = average_of_vehicle"
   ]
  },
  {
   "cell_type": "markdown",
   "id": "44209827-1ebc-41e3-82d0-c1256e05537f",
   "metadata": {},
   "source": [
    "Q2. Create a child class car from the vehicle class created in Que 1, which will inherit the vehicle class.\n",
    "Create a method named seating_capacity which takes capacity as an argument and returns the name of\n",
    "the vehicle and its seating capacity."
   ]
  },
  {
   "cell_type": "code",
   "execution_count": 2,
   "id": "513ef711-39f6-4c5e-a5fe-23c3e5a96be1",
   "metadata": {},
   "outputs": [],
   "source": [
    "class car(vehicle):\n",
    "    \n",
    "    def seating_capacity(self, capacity):\n",
    "        self.capacity = capacity\n",
    "        return self.name_of_vehicle, self.capacity"
   ]
  },
  {
   "cell_type": "code",
   "execution_count": 4,
   "id": "45614705-bcf7-4a26-a0e0-0c329e8da40e",
   "metadata": {},
   "outputs": [],
   "source": [
    "ch = car('hyundai', '5kmph', 'five')"
   ]
  },
  {
   "cell_type": "code",
   "execution_count": 5,
   "id": "012be00d-cbd9-4dab-8e23-1841568cd6c1",
   "metadata": {},
   "outputs": [
    {
     "data": {
      "text/plain": [
       "('hyundai', 2)"
      ]
     },
     "execution_count": 5,
     "metadata": {},
     "output_type": "execute_result"
    }
   ],
   "source": [
    "ch.seating_capacity(2)"
   ]
  },
  {
   "cell_type": "markdown",
   "id": "e96ae146-a35b-4b7d-830a-a1ab3a512932",
   "metadata": {},
   "source": [
    "Q3. What is multiple inheritance? Write a python code to demonstrate multiple inheritance."
   ]
  },
  {
   "cell_type": "code",
   "execution_count": 6,
   "id": "d27daa7e-c5e0-4bf4-b3d5-908dc2fc15d0",
   "metadata": {},
   "outputs": [],
   "source": [
    "'''\n",
    "When a class inherits properties from one or more different classes, it is called multiple inheritance.\n",
    "'''\n",
    "\n",
    "class initial:\n",
    "    def initial_test(self):\n",
    "        print(\"This is my first class\")\n",
    "        \n",
    "class middle:\n",
    "    def middle_test(self):\n",
    "        print(\"This is my middle class\")\n",
    "        \n",
    "class final(initial, middle):\n",
    "    pass"
   ]
  },
  {
   "cell_type": "code",
   "execution_count": 9,
   "id": "2c7e02be-f1d9-4b11-bb2d-3b5cfb25e646",
   "metadata": {},
   "outputs": [
    {
     "name": "stdout",
     "output_type": "stream",
     "text": [
      "This is my first class\n"
     ]
    }
   ],
   "source": [
    "temp = final()\n",
    "\n",
    "temp.initial_test()"
   ]
  },
  {
   "cell_type": "markdown",
   "id": "7f18d529-4d5c-49b3-831e-35ee5ad2e2e5",
   "metadata": {},
   "source": [
    "Q4. What are getter and setter in python? Create a class and create a getter and a setter method in this\n",
    "class."
   ]
  },
  {
   "cell_type": "code",
   "execution_count": 7,
   "id": "619d5ebd-f789-4ea6-9a0a-75b293c379b3",
   "metadata": {},
   "outputs": [],
   "source": [
    "'''\n",
    "\n",
    "Getters and setters are property decorators of a class to view and modify the private attribute or \n",
    "property by allowing access to the user respetvely\n",
    "\n",
    "'''\n",
    "class vehicle:\n",
    "    \n",
    "    def __init__(self, name_of_vehicle, max_speed, average_of_vehicle):\n",
    "        self.__name_of_vehicle = name_of_vehicle\n",
    "        self.__max_speed = max_speed\n",
    "        self.average_of_vehicle = average_of_vehicle\n",
    "        \n",
    "    @property\n",
    "    def name_access(self):\n",
    "        return self.__name_of_vehicle\n",
    "    \n",
    "    @name_access.setter\n",
    "    def speed_set(self , speed):\n",
    "        if speed <= 50:\n",
    "            pass\n",
    "        else :\n",
    "            self.__max_speed = speed\n",
    "            \n",
    "    @property\n",
    "    def speed_access(self):\n",
    "        return self.__max_speed"
   ]
  },
  {
   "cell_type": "code",
   "execution_count": 8,
   "id": "2998b089-12dd-4c40-89d4-aa840956560d",
   "metadata": {},
   "outputs": [],
   "source": [
    "c = vehicle('hyndai', 55, 25)"
   ]
  },
  {
   "cell_type": "code",
   "execution_count": 9,
   "id": "fb18ad13-5fcf-47a7-ad46-ca65d45b7145",
   "metadata": {},
   "outputs": [
    {
     "data": {
      "text/plain": [
       "'hyndai'"
      ]
     },
     "execution_count": 9,
     "metadata": {},
     "output_type": "execute_result"
    }
   ],
   "source": [
    "c.name_access"
   ]
  },
  {
   "cell_type": "code",
   "execution_count": 12,
   "id": "c039e8cb-f47b-4c9a-b7a1-239c340f78dc",
   "metadata": {},
   "outputs": [],
   "source": [
    "c.speed_set = 65"
   ]
  },
  {
   "cell_type": "code",
   "execution_count": 13,
   "id": "c1b9c95f-4207-49bf-b50d-5eeaba931b57",
   "metadata": {},
   "outputs": [
    {
     "data": {
      "text/plain": [
       "65"
      ]
     },
     "execution_count": 13,
     "metadata": {},
     "output_type": "execute_result"
    }
   ],
   "source": [
    "c.speed_access"
   ]
  },
  {
   "cell_type": "markdown",
   "id": "a58cab2b-27bc-451a-a90d-6d5a67715198",
   "metadata": {},
   "source": [
    "Q5.What is method overriding in python? Write a python code to demonstrate method overriding."
   ]
  },
  {
   "cell_type": "code",
   "execution_count": 14,
   "id": "0baa5d24-5b14-4b10-95a1-6f9bf8ec1b3b",
   "metadata": {},
   "outputs": [
    {
     "name": "stdout",
     "output_type": "stream",
     "text": [
      "Inside Child\n",
      "Inside Parent2\n"
     ]
    }
   ],
   "source": [
    "'''\n",
    "When a method in a subclass has the same name, same parameters or signature and same return type(or sub-type) as a method in its super-class, \n",
    "then the method in the subclass is said to override the method in the super-class.\n",
    "'''\n",
    "\n",
    "# Python program to demonstrate\n",
    "# overriding in multiple inheritance\n",
    "\n",
    "\n",
    "# Defining parent class 1\n",
    "class Parent1():\n",
    "\t\t\n",
    "\t# Parent's show method\n",
    "\tdef show(self):\n",
    "\t\tprint(\"Inside Parent1\")\n",
    "\t\t\n",
    "# Defining Parent class 2\n",
    "class Parent2():\n",
    "\t\t\n",
    "\t# Parent's show method\n",
    "\tdef display(self):\n",
    "\t\tprint(\"Inside Parent2\")\n",
    "\t\t\n",
    "\t\t\n",
    "# Defining child class\n",
    "class Child(Parent1, Parent2):\n",
    "\t\t\n",
    "\t# Child's show method\n",
    "\tdef show(self):\n",
    "\t\tprint(\"Inside Child\")\n",
    "\t\n",
    "\t\t\n",
    "# Driver's code\n",
    "obj = Child()\n",
    "\n",
    "obj.show()\n",
    "obj.display()\n"
   ]
  },
  {
   "cell_type": "code",
   "execution_count": null,
   "id": "0d7166a8-8d51-4295-9ba3-57805de1b6e9",
   "metadata": {},
   "outputs": [],
   "source": []
  }
 ],
 "metadata": {
  "kernelspec": {
   "display_name": "Python 3 (ipykernel)",
   "language": "python",
   "name": "python3"
  },
  "language_info": {
   "codemirror_mode": {
    "name": "ipython",
    "version": 3
   },
   "file_extension": ".py",
   "mimetype": "text/x-python",
   "name": "python",
   "nbconvert_exporter": "python",
   "pygments_lexer": "ipython3",
   "version": "3.10.8"
  }
 },
 "nbformat": 4,
 "nbformat_minor": 5
}
