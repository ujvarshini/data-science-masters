{
 "cells": [
  {
   "cell_type": "markdown",
   "id": "c68bd0cc-57c0-453e-ab69-08055551d464",
   "metadata": {},
   "source": [
    "Q1. What is multiprocessing in python? Why is it useful?"
   ]
  },
  {
   "cell_type": "markdown",
   "id": "6b37ef76-180c-4e11-9952-20a0db575191",
   "metadata": {},
   "source": [
    "Multiprocessing in Python is a built-in package that allows the system to run multiple processes simultaneously. It will enable the breaking of applications into smaller threads that can run independently.\n",
    "\n",
    "Multiple programs run to reduce a latency in all cores in parallel. This is used for memory management"
   ]
  },
  {
   "cell_type": "markdown",
   "id": "46643a4e-e834-4e79-b197-4197bf322aec",
   "metadata": {},
   "source": [
    "Q2. What are the differences between multiprocessing and multithreading?\n"
   ]
  },
  {
   "cell_type": "markdown",
   "id": "93b8cf81-d1a4-4677-8ef6-7a361a9f41ce",
   "metadata": {},
   "source": [
    "Multiprocessing allows the processing of multiple processes at the same time by using multiple CPUs whereas, multiprogramming allows various programs in main memory at the same time using only one CPU. In multi threading if a user wants to execute a program many times, one core executes in a parallel or consecutive order by occupying all the resoursces in same core/cpu."
   ]
  },
  {
   "cell_type": "markdown",
   "id": "53f1aed2-6f8f-4eec-8d7d-880aedf9f0ac",
   "metadata": {},
   "source": [
    "Q3. Write a python code to create a process using the multiprocessing module.\n"
   ]
  },
  {
   "cell_type": "code",
   "execution_count": 1,
   "id": "58ce6230-2f57-44bb-8700-6ad5ab20cc5f",
   "metadata": {},
   "outputs": [
    {
     "name": "stdout",
     "output_type": "stream",
     "text": [
      "COmpleted the child process\n",
      "this is my test program\n"
     ]
    }
   ],
   "source": [
    "import multiprocessing\n",
    "\n",
    "def test():\n",
    "    \n",
    "    print(\"this is my test program\")\n",
    "    \n",
    "if __name__ == \"__main__\":\n",
    "    m = multiprocessing.Process(target = test)\n",
    "    print('COmpleted the child process')\n",
    "    \n",
    "    m.start()\n",
    "    m.join()"
   ]
  },
  {
   "cell_type": "markdown",
   "id": "d92dc754-943d-45be-9f80-233a9b567dca",
   "metadata": {},
   "source": [
    "Q4. What is a multiprocessing pool in python? Why is it used?\n"
   ]
  },
  {
   "cell_type": "markdown",
   "id": "34a75bc1-1d3c-49a8-a66f-2be6eadae0e2",
   "metadata": {},
   "source": [
    "Python multiprocessing Pool can be used for parallel execution of a function across multiple input values, distributing the input data across processes (data parallelism)."
   ]
  },
  {
   "cell_type": "markdown",
   "id": "e2b069a1-06e7-480c-83a6-201a40af4f6c",
   "metadata": {},
   "source": [
    "Q5. How can we create a pool of worker processes in python using the multiprocessing module?\n"
   ]
  },
  {
   "cell_type": "code",
   "execution_count": 2,
   "id": "85bbb5e7-044d-49bc-a6b1-104ad9b0832b",
   "metadata": {},
   "outputs": [
    {
     "name": "stdout",
     "output_type": "stream",
     "text": [
      "[1, 4, 9, 16, 25]\n"
     ]
    }
   ],
   "source": [
    "def square(n):\n",
    "    return n*n\n",
    "if __name__ == '__main__':\n",
    "    with multiprocessing.Pool(processes = 5) as pool:\n",
    "        out = pool.map(square , [1,2,3,4,5])\n",
    "        print(out)"
   ]
  },
  {
   "cell_type": "markdown",
   "id": "70d7d77a-1e07-4980-8256-0f1f018e5268",
   "metadata": {},
   "source": [
    "Q6. Write a python program to create 4 processes, each process should print a different number using the\n",
    "multiprocessing module in python."
   ]
  },
  {
   "cell_type": "code",
   "execution_count": 8,
   "id": "011d7552-0939-4cf9-8eb7-8db831b95fcf",
   "metadata": {},
   "outputs": [],
   "source": [
    "def num1():\n",
    "    print(2)\n",
    "def num2():\n",
    "    print(20)\n",
    "def num3():\n",
    "    print(200)\n",
    "def num4():\n",
    "    print(2000)"
   ]
  },
  {
   "cell_type": "code",
   "execution_count": 9,
   "id": "cb948e7a-fa20-4c47-93cc-962cad94d71f",
   "metadata": {},
   "outputs": [
    {
     "name": "stdout",
     "output_type": "stream",
     "text": [
      "2\n",
      "20\n",
      "200\n",
      "2000\n"
     ]
    }
   ],
   "source": [
    "if __name__ == '__main__':\n",
    "    queue = multiprocessing.Queue()\n",
    "    \n",
    "    m1 = multiprocessing.Process(target = num1)\n",
    "    m2 = multiprocessing.Process(target= num2)\n",
    "    m3 = multiprocessing.Process(target= num3)\n",
    "    m4 = multiprocessing.Process(target= num4)\n",
    "    \n",
    "    m1.start()\n",
    "    m2.start()\n",
    "    m3.start()\n",
    "    m4.start()\n",
    "    \n",
    "    \n",
    "    m1.join()\n",
    "    m2.join()\n",
    "    m3.join()\n",
    "    m4.join()"
   ]
  },
  {
   "cell_type": "code",
   "execution_count": null,
   "id": "0f44073a-13ba-46e5-8dcd-e2ca62b15cc1",
   "metadata": {},
   "outputs": [],
   "source": []
  }
 ],
 "metadata": {
  "kernelspec": {
   "display_name": "Python 3 (ipykernel)",
   "language": "python",
   "name": "python3"
  },
  "language_info": {
   "codemirror_mode": {
    "name": "ipython",
    "version": 3
   },
   "file_extension": ".py",
   "mimetype": "text/x-python",
   "name": "python",
   "nbconvert_exporter": "python",
   "pygments_lexer": "ipython3",
   "version": "3.10.8"
  }
 },
 "nbformat": 4,
 "nbformat_minor": 5
}
